{
  "cells": [
    {
      "cell_type": "markdown",
      "metadata": {
        "id": "view-in-github",
        "colab_type": "text"
      },
      "source": [
        "<a href=\"https://colab.research.google.com/github/inefable12/Python_para_todos/blob/main/03_Pandas.ipynb\" target=\"_parent\"><img src=\"https://colab.research.google.com/assets/colab-badge.svg\" alt=\"Open In Colab\"/></a>"
      ]
    },
    {
      "cell_type": "markdown",
      "source": [
        "<img src=\"https://miro.medium.com/v2/resize:fit:1400/1*zomnCz8-VMgrSV8eLCx2tw.gif\" width=\"200\" alt=\"molecula\"  />\n",
        "\n",
        "$$\\Large \\textit{Cuadernos de Código}$$\n",
        "\n",
        "---\n",
        "$$\\large\\textbf{Pandas}$$\n",
        "\n",
        "---\n",
        "$$\\textit{Resumen}$$\n",
        "\n",
        "<br>\n",
        "<br>"
      ],
      "metadata": {
        "id": "5EghIfQz3ukS"
      }
    },
    {
      "cell_type": "markdown",
      "metadata": {
        "id": "eHsQgPrH2Wh2"
      },
      "source": [
        "Basado en: https://github.com/albahnsen/PracticalMachineLearningClass\n"
      ]
    },
    {
      "cell_type": "code",
      "execution_count": null,
      "metadata": {
        "id": "68a1t3Bo2Wh4"
      },
      "outputs": [],
      "source": [
        "!pip freeze"
      ]
    },
    {
      "cell_type": "code",
      "execution_count": null,
      "metadata": {
        "id": "BgzAufbK2Wh5"
      },
      "outputs": [],
      "source": [
        "!ls"
      ]
    },
    {
      "cell_type": "code",
      "execution_count": null,
      "metadata": {
        "id": "MRC3SHOi2Wh6"
      },
      "outputs": [],
      "source": [
        "##!pip install pandas  #instalar\n",
        "#actualizar\n",
        "\n",
        "!pip install --upgrade pandas"
      ]
    },
    {
      "cell_type": "code",
      "execution_count": null,
      "metadata": {
        "id": "3yCqcVgA2Wh6"
      },
      "outputs": [],
      "source": [
        "import pandas as pd\n",
        "import numpy as np"
      ]
    },
    {
      "cell_type": "code",
      "execution_count": null,
      "metadata": {
        "id": "7a1m4q8O2Wh6"
      },
      "outputs": [],
      "source": [
        "from pandas import Series"
      ]
    },
    {
      "cell_type": "code",
      "execution_count": null,
      "metadata": {
        "id": "yQNTG6Mw2Wh6"
      },
      "outputs": [],
      "source": [
        "pd.__version__"
      ]
    },
    {
      "cell_type": "code",
      "execution_count": null,
      "metadata": {
        "id": "hGMVKMVN2Wh7"
      },
      "outputs": [],
      "source": [
        "ser1 = pd.Series([1, 1, 2, -3, -5, -5, 13, 1.2, 'hola'])"
      ]
    },
    {
      "cell_type": "code",
      "execution_count": null,
      "metadata": {
        "id": "Ke6drgct2Wh7"
      },
      "outputs": [],
      "source": [
        "type(ser1)"
      ]
    },
    {
      "cell_type": "code",
      "execution_count": null,
      "metadata": {
        "id": "Cl8cvzyR2Wh7"
      },
      "outputs": [],
      "source": [
        "print(ser1)"
      ]
    },
    {
      "cell_type": "markdown",
      "metadata": {
        "id": "4nDGXRPJ2Wh7"
      },
      "source": [
        "## Series\n",
        "\n",
        "A Series is a one-dimensional array-like object containing an array of data and an associated array of data labels.  The data can be any NumPy data type and the labels are the Series' index."
      ]
    },
    {
      "cell_type": "markdown",
      "metadata": {
        "id": "6NpTLUOf2Wh7"
      },
      "source": [
        "Create a Series:"
      ]
    },
    {
      "cell_type": "code",
      "execution_count": null,
      "metadata": {
        "id": "JxkVdrdg2Wh7"
      },
      "outputs": [],
      "source": [
        "ser_1 = pd.Series([1, 1, 2, -3, -5, -5, 13, 1.2, 'a'])\n",
        "#ser_1.astype(str)\n",
        "ser_1"
      ]
    },
    {
      "cell_type": "code",
      "execution_count": null,
      "metadata": {
        "id": "fGsBERRV2Wh8"
      },
      "outputs": [],
      "source": [
        "mi_lista = [1,2,'a',4,5,6.3]\n",
        "mi_lista"
      ]
    },
    {
      "cell_type": "markdown",
      "metadata": {
        "id": "5MT43bIW2Wh8"
      },
      "source": [
        "Get the array representation of a Series:"
      ]
    },
    {
      "cell_type": "code",
      "execution_count": null,
      "metadata": {
        "id": "lBZetQId2Wh8"
      },
      "outputs": [],
      "source": [
        "list(ser_1.values)"
      ]
    },
    {
      "cell_type": "markdown",
      "metadata": {
        "id": "vVgwdrE42Wh8"
      },
      "source": [
        "Index objects are immutable and hold the axis labels and metadata such as names and axis names.\n",
        "\n",
        "Get the index of the Series:"
      ]
    },
    {
      "cell_type": "code",
      "execution_count": null,
      "metadata": {
        "id": "6_p-IGsz2Wh8"
      },
      "outputs": [],
      "source": [
        "pares = [indice for indice in list(ser_1.index.values) if indice%2==0]"
      ]
    },
    {
      "cell_type": "code",
      "execution_count": null,
      "metadata": {
        "id": "S2g8nACu2Wh8"
      },
      "outputs": [],
      "source": [
        "ser_1[pares]"
      ]
    },
    {
      "cell_type": "markdown",
      "metadata": {
        "id": "QuZtoEMV2Wh9"
      },
      "source": [
        "Create a Series with a custom index:"
      ]
    },
    {
      "cell_type": "code",
      "execution_count": null,
      "metadata": {
        "id": "_8fGiMVE2Wh9"
      },
      "outputs": [],
      "source": [
        "ser_2 = pd.Series([1, 1, 2, -3, 6], index=['a', 'b', 'c', 'd', 'e'])\n",
        "ser_2"
      ]
    },
    {
      "cell_type": "markdown",
      "metadata": {
        "id": "2E4kIyNX2Wh9"
      },
      "source": [
        "Get a value from a Series:"
      ]
    },
    {
      "cell_type": "code",
      "execution_count": null,
      "metadata": {
        "id": "bUu4eLxU2Wh9"
      },
      "outputs": [],
      "source": [
        "ser_2[4]"
      ]
    },
    {
      "cell_type": "code",
      "execution_count": null,
      "metadata": {
        "id": "6eJ4CMZO2Wh9"
      },
      "outputs": [],
      "source": [
        "ser_2['e']"
      ]
    },
    {
      "cell_type": "code",
      "execution_count": null,
      "metadata": {
        "id": "AzWbQp-f2Wh9"
      },
      "outputs": [],
      "source": [
        "ser_2[4] == ser_2['e']"
      ]
    },
    {
      "cell_type": "markdown",
      "metadata": {
        "id": "queaki9X2Wh-"
      },
      "source": [
        "Get a set of values from a Series by passing in a list:"
      ]
    },
    {
      "cell_type": "code",
      "execution_count": null,
      "metadata": {
        "id": "w3bB2Jx22Wh-"
      },
      "outputs": [],
      "source": [
        "ser_2[['c', 'a', 'b']]"
      ]
    },
    {
      "cell_type": "code",
      "execution_count": null,
      "metadata": {
        "id": "X8oPChmC2Wh-"
      },
      "outputs": [],
      "source": [
        "ser_2"
      ]
    },
    {
      "cell_type": "markdown",
      "metadata": {
        "id": "6w-CPaFK2Wh-"
      },
      "source": [
        "Get values great than 0:"
      ]
    },
    {
      "cell_type": "code",
      "execution_count": null,
      "metadata": {
        "id": "rnIQO0aM2Wh-"
      },
      "outputs": [],
      "source": [
        "ser_2[ser_2 > 0]"
      ]
    },
    {
      "cell_type": "code",
      "execution_count": null,
      "metadata": {
        "id": "jvRkHX-32Wh-"
      },
      "outputs": [],
      "source": [
        "ser_2 > 0"
      ]
    },
    {
      "cell_type": "code",
      "execution_count": null,
      "metadata": {
        "id": "xyqJb-IV2Wh-"
      },
      "outputs": [],
      "source": [
        "a = [1,2,3]\n",
        "\n",
        "a*3"
      ]
    },
    {
      "cell_type": "code",
      "execution_count": null,
      "metadata": {
        "id": "cIjhBzDM2Wh_"
      },
      "outputs": [],
      "source": [
        "type(a)"
      ]
    },
    {
      "cell_type": "markdown",
      "metadata": {
        "id": "RUDa6eVn2Wh_"
      },
      "source": [
        "Scalar multiply:"
      ]
    },
    {
      "cell_type": "code",
      "execution_count": null,
      "metadata": {
        "id": "WwOUitZh2Wh_"
      },
      "outputs": [],
      "source": [
        "ser_2 * 2"
      ]
    },
    {
      "cell_type": "code",
      "execution_count": null,
      "metadata": {
        "id": "Clz3nsXA2Wh_"
      },
      "outputs": [],
      "source": [
        "type(ser_2)"
      ]
    },
    {
      "cell_type": "markdown",
      "metadata": {
        "id": "VJgDlxuw2Wh_"
      },
      "source": [
        "Apply a numpy math function:"
      ]
    },
    {
      "cell_type": "code",
      "execution_count": null,
      "metadata": {
        "id": "PXbmw28D2WiA"
      },
      "outputs": [],
      "source": [
        "import numpy as np\n",
        "\n",
        "np.exp(ser_2)"
      ]
    },
    {
      "cell_type": "markdown",
      "metadata": {
        "id": "gWUuAwhU2WiA"
      },
      "source": [
        "A Series is like a fixed-length, ordered dict.  \n",
        "\n",
        "Create a series by passing in a dict:"
      ]
    },
    {
      "cell_type": "code",
      "execution_count": null,
      "metadata": {
        "id": "MhOV6caT2WiA"
      },
      "outputs": [],
      "source": [
        "dict_1 = {'foo' : 100, 'bar' : 200, 'baz' : 300}\n",
        "\n",
        "dict_1"
      ]
    },
    {
      "cell_type": "code",
      "execution_count": null,
      "metadata": {
        "id": "xXamsFAb2WiA"
      },
      "outputs": [],
      "source": [
        "ser_3 = pd.Series(dict_1)\n",
        "ser_3"
      ]
    },
    {
      "cell_type": "markdown",
      "metadata": {
        "id": "V8tSjlpC2WiA"
      },
      "source": [
        "Re-order a Series by passing in an index (indices not found are NaN):"
      ]
    },
    {
      "cell_type": "code",
      "execution_count": null,
      "metadata": {
        "scrolled": true,
        "id": "D2vKDY4t2WiA"
      },
      "outputs": [],
      "source": [
        "index = ['foo', 'bar', 'baz', 'xyz']\n",
        "ser_4 = pd.Series(dict_1, index=index)\n",
        "ser_4"
      ]
    },
    {
      "cell_type": "code",
      "execution_count": null,
      "metadata": {
        "id": "sUUX9JDM2WiB"
      },
      "outputs": [],
      "source": [
        "~pd.isnull(ser_4)"
      ]
    },
    {
      "cell_type": "markdown",
      "metadata": {
        "id": "8spkCyYC2WiB"
      },
      "source": [
        "Check for NaN with the pandas method:"
      ]
    },
    {
      "cell_type": "code",
      "execution_count": null,
      "metadata": {
        "id": "NexIugYK2WiB"
      },
      "outputs": [],
      "source": [
        "ser_4[~pd.isnull(ser_4)]"
      ]
    },
    {
      "cell_type": "markdown",
      "metadata": {
        "id": "XLje7oTT2WiB"
      },
      "source": [
        "Check for NaN with the Series method:"
      ]
    },
    {
      "cell_type": "code",
      "execution_count": null,
      "metadata": {
        "id": "tz2T3GG22WiB"
      },
      "outputs": [],
      "source": [
        "ser_4.isnull().sum()"
      ]
    },
    {
      "cell_type": "code",
      "execution_count": null,
      "metadata": {
        "id": "A5TWAQ262WiC"
      },
      "outputs": [],
      "source": [
        "ser_4.isnull()"
      ]
    },
    {
      "cell_type": "code",
      "execution_count": null,
      "metadata": {
        "id": "6A_Ctnpu2WiC"
      },
      "outputs": [],
      "source": [
        "ser_4.isnull().mean()"
      ]
    },
    {
      "cell_type": "code",
      "execution_count": null,
      "metadata": {
        "id": "ZTrYrIKb2WiC"
      },
      "outputs": [],
      "source": [
        "ser_4.isnull()"
      ]
    },
    {
      "cell_type": "markdown",
      "metadata": {
        "id": "onA8DDUE2WiC"
      },
      "source": [
        "Series automatically aligns differently indexed data in arithmetic operations:"
      ]
    },
    {
      "cell_type": "code",
      "execution_count": null,
      "metadata": {
        "id": "CMAYAGqW2WiC"
      },
      "outputs": [],
      "source": [
        "20 + np.nan"
      ]
    },
    {
      "cell_type": "code",
      "execution_count": null,
      "metadata": {
        "id": "YrVYzW6Z2WiC"
      },
      "outputs": [],
      "source": [
        "ser_3"
      ]
    },
    {
      "cell_type": "code",
      "execution_count": null,
      "metadata": {
        "id": "K931z-zk2WiD"
      },
      "outputs": [],
      "source": [
        "ser_4"
      ]
    },
    {
      "cell_type": "code",
      "execution_count": null,
      "metadata": {
        "id": "wyBLXZnz2WiD"
      },
      "outputs": [],
      "source": [
        "ser_3 + ser_4"
      ]
    },
    {
      "cell_type": "markdown",
      "metadata": {
        "id": "bisgdMV22WiD"
      },
      "source": [
        "Name a Series:"
      ]
    },
    {
      "cell_type": "code",
      "execution_count": null,
      "metadata": {
        "id": "ZfvN-YDn2WiD"
      },
      "outputs": [],
      "source": [
        "ser_4.name = 'foobarbazqux'"
      ]
    },
    {
      "cell_type": "markdown",
      "metadata": {
        "id": "63a-lLyl2WiD"
      },
      "source": [
        "Name a Series index:"
      ]
    },
    {
      "cell_type": "code",
      "execution_count": null,
      "metadata": {
        "id": "rgb9FNBg2WiD"
      },
      "outputs": [],
      "source": [
        "ser_4.index.name = 'label'"
      ]
    },
    {
      "cell_type": "code",
      "execution_count": null,
      "metadata": {
        "id": "e02B7ce42WiE"
      },
      "outputs": [],
      "source": [
        "ser_4"
      ]
    },
    {
      "cell_type": "markdown",
      "metadata": {
        "id": "C7Rr_egn2WiE"
      },
      "source": [
        "Rename a Series' index in place:"
      ]
    },
    {
      "cell_type": "code",
      "execution_count": null,
      "metadata": {
        "id": "OwZVIUuI2WiE"
      },
      "outputs": [],
      "source": [
        "ser_4.index = ['fo', 'br', 'bz', 'qx']\n",
        "ser_4"
      ]
    },
    {
      "cell_type": "markdown",
      "metadata": {
        "id": "bg2BZVxO2WiE"
      },
      "source": [
        "## DataFrame\n",
        "\n",
        "A DataFrame is a tabular data structure containing an ordered collection of columns.  Each column can have a different type.  DataFrames have both row and column indices and is analogous to a dict of Series.  Row and column operations are treated roughly symmetrically.  Columns returned when indexing a DataFrame are views of the underlying data, not a copy.  To obtain a copy, use the Series' copy method.\n",
        "\n",
        "Create a DataFrame:"
      ]
    },
    {
      "cell_type": "code",
      "execution_count": null,
      "metadata": {
        "id": "dt6Kz2S62WiE"
      },
      "outputs": [],
      "source": [
        "import pandas as pd\n",
        "import numpy as np"
      ]
    },
    {
      "cell_type": "code",
      "execution_count": null,
      "metadata": {
        "id": "CRGWmEPz2WiE"
      },
      "outputs": [],
      "source": [
        "data_1 = {'state' : ['VA', 'VA', 'VA', 'MD', 'MD'],\n",
        "          'year' : [2012, 2013, 2014, 2014, 2015],\n",
        "          'pop' : [5.0, 5.1, 5.2, 4.0, 4.1]}\n",
        "\n",
        "df_1 = pd.DataFrame(data_1)\n",
        "df_1"
      ]
    },
    {
      "cell_type": "markdown",
      "metadata": {
        "id": "I7nrA6CK2WiE"
      },
      "source": [
        "Create a DataFrame specifying a sequence of columns:"
      ]
    },
    {
      "cell_type": "code",
      "execution_count": null,
      "metadata": {
        "id": "JREjruqV2WiF"
      },
      "outputs": [],
      "source": [
        "df_2 = pd.DataFrame(data_1, columns=['year', 'state', 'pop'])\n",
        "df_2"
      ]
    },
    {
      "cell_type": "markdown",
      "metadata": {
        "id": "3YK5EK9b2WiF"
      },
      "source": [
        "Like Series, columns that are not present in the data are NaN:"
      ]
    },
    {
      "cell_type": "code",
      "execution_count": null,
      "metadata": {
        "id": "6V19UAfA2WiF"
      },
      "outputs": [],
      "source": [
        "df_3 = pd.DataFrame(data_1, columns=['year', 'state', 'pop', 'unempl'])\n",
        "df_3"
      ]
    },
    {
      "cell_type": "code",
      "execution_count": null,
      "metadata": {
        "id": "zJGD1fH02WiF"
      },
      "outputs": [],
      "source": [
        "df_3.info()"
      ]
    },
    {
      "cell_type": "code",
      "execution_count": null,
      "metadata": {
        "id": "Pwu3mK4K2WiF"
      },
      "outputs": [],
      "source": [
        "df_3['state'] = df_3['state'].astype(str)"
      ]
    },
    {
      "cell_type": "code",
      "execution_count": null,
      "metadata": {
        "id": "EROrB17u2WiF"
      },
      "outputs": [],
      "source": [
        "df_3['state']"
      ]
    },
    {
      "cell_type": "code",
      "execution_count": null,
      "metadata": {
        "id": "EQvTaQSs2WiG"
      },
      "outputs": [],
      "source": [
        "pd.DataFrame(df_3['state'])"
      ]
    },
    {
      "cell_type": "code",
      "execution_count": null,
      "metadata": {
        "id": "pFkI42hA2WiG"
      },
      "outputs": [],
      "source": [
        "type(df_3)"
      ]
    },
    {
      "cell_type": "markdown",
      "metadata": {
        "id": "DmaVeyvG2WiG"
      },
      "source": [
        "Retrieve a column by key, returning a Series:\n"
      ]
    },
    {
      "cell_type": "code",
      "execution_count": null,
      "metadata": {
        "id": "g4xY87ST2WiG"
      },
      "outputs": [],
      "source": [
        "df_3['year']"
      ]
    },
    {
      "cell_type": "markdown",
      "metadata": {
        "id": "Qb1d1Ttc2WiG"
      },
      "source": [
        "Retrive a column by attribute, returning a Series:"
      ]
    },
    {
      "cell_type": "code",
      "execution_count": null,
      "metadata": {
        "id": "JfIo4nXj2WiG"
      },
      "outputs": [],
      "source": [
        "df_3.year"
      ]
    },
    {
      "cell_type": "code",
      "execution_count": null,
      "metadata": {
        "id": "PmWgB7W72WiG"
      },
      "outputs": [],
      "source": [
        "df_3[['year', 'state']]"
      ]
    },
    {
      "cell_type": "markdown",
      "metadata": {
        "id": "iCxKLpwN2WiH"
      },
      "source": [
        "Retrieve a row by position:"
      ]
    },
    {
      "cell_type": "code",
      "execution_count": null,
      "metadata": {
        "id": "R4RxqE5M2WiH"
      },
      "outputs": [],
      "source": [
        "df_3"
      ]
    },
    {
      "cell_type": "code",
      "execution_count": null,
      "metadata": {
        "id": "q0Jm8d462WiH"
      },
      "outputs": [],
      "source": [
        "df_3.iloc[0]"
      ]
    },
    {
      "cell_type": "code",
      "execution_count": null,
      "metadata": {
        "id": "n1NLP-NV2WiH"
      },
      "outputs": [],
      "source": [
        "df_3['pop']"
      ]
    },
    {
      "cell_type": "code",
      "execution_count": null,
      "metadata": {
        "id": "IldyAjvm2WiH"
      },
      "outputs": [],
      "source": [
        "np.arange(5)"
      ]
    },
    {
      "cell_type": "code",
      "execution_count": null,
      "metadata": {
        "id": "KcT26n3V2WiH"
      },
      "outputs": [],
      "source": [
        "df_3"
      ]
    },
    {
      "cell_type": "markdown",
      "metadata": {
        "id": "bxbmHojW2WiI"
      },
      "source": [
        "Update a column by assignment:"
      ]
    },
    {
      "cell_type": "code",
      "execution_count": null,
      "metadata": {
        "id": "dyUGrlvU2WiI"
      },
      "outputs": [],
      "source": [
        "df_3['unempl'] = np.arange(5)\n",
        "df_3"
      ]
    },
    {
      "cell_type": "markdown",
      "metadata": {
        "id": "0bJWmP132WiI"
      },
      "source": [
        "Assign a Series to a column (note if assigning a list or array, the length must match the DataFrame, unlike a Series):"
      ]
    },
    {
      "cell_type": "code",
      "execution_count": null,
      "metadata": {
        "id": "c7CL6oS22WiI"
      },
      "outputs": [],
      "source": [
        "unempl = pd.Series([6.0, 6.0, 6.1], index=[2, 3, 4])\n",
        "unempl"
      ]
    },
    {
      "cell_type": "code",
      "execution_count": null,
      "metadata": {
        "id": "GznfCcMD2WiI"
      },
      "outputs": [],
      "source": [
        "df_3['unempl'] = unempl\n",
        "df_3"
      ]
    },
    {
      "cell_type": "markdown",
      "metadata": {
        "id": "yNT7p36d2WiI"
      },
      "source": [
        "Assign a new column that doesn't exist to create a new column:"
      ]
    },
    {
      "cell_type": "code",
      "execution_count": null,
      "metadata": {
        "id": "0Srlk6wM2WiI"
      },
      "outputs": [],
      "source": [
        "df_3['state_duplicado'] = df_3['state']\n",
        "df_3"
      ]
    },
    {
      "cell_type": "markdown",
      "metadata": {
        "id": "wEnY7XiP2WiI"
      },
      "source": [
        "Delete a column:"
      ]
    },
    {
      "cell_type": "code",
      "execution_count": null,
      "metadata": {
        "id": "MNpVX5_o2WiJ"
      },
      "outputs": [],
      "source": [
        "del df_3['state_duplicado']\n",
        "df_3"
      ]
    },
    {
      "cell_type": "markdown",
      "metadata": {
        "id": "iD4zAcoa2WiJ"
      },
      "source": [
        "Create a DataFrame from a nested dict of dicts (the keys in the inner dicts are unioned and sorted to form the index in the result, unless an explicit index is specified):"
      ]
    },
    {
      "cell_type": "code",
      "execution_count": null,
      "metadata": {
        "id": "a2fqmPRH2WiJ"
      },
      "outputs": [],
      "source": [
        "pop = {'VA' : {2013 : 5.1, 2014 : 5.2},\n",
        "       'MD' : {2014 : 4.0, 2015 : 4.1}}\n",
        "pop"
      ]
    },
    {
      "cell_type": "code",
      "execution_count": null,
      "metadata": {
        "id": "puNGb9xe2WiJ"
      },
      "outputs": [],
      "source": [
        "df_4 = pd.DataFrame(pop)\n",
        "df_4"
      ]
    },
    {
      "cell_type": "markdown",
      "metadata": {
        "id": "C3Xw1Ojf2WiJ"
      },
      "source": [
        "Transpose the DataFrame:"
      ]
    },
    {
      "cell_type": "code",
      "execution_count": null,
      "metadata": {
        "id": "Xfjo8dER2WiJ"
      },
      "outputs": [],
      "source": [
        "df_4.T"
      ]
    },
    {
      "cell_type": "markdown",
      "metadata": {
        "id": "1HvK8lO72WiJ"
      },
      "source": [
        "Create a DataFrame from a dict of Series:"
      ]
    },
    {
      "cell_type": "code",
      "execution_count": null,
      "metadata": {
        "id": "c_2ZDKI82WiJ"
      },
      "outputs": [],
      "source": [
        "df_4"
      ]
    },
    {
      "cell_type": "code",
      "execution_count": null,
      "metadata": {
        "id": "gtUjt22a2WiJ"
      },
      "outputs": [],
      "source": [
        "df_4['VA'][1:]"
      ]
    },
    {
      "cell_type": "code",
      "execution_count": null,
      "metadata": {
        "id": "uFJcQiTI2WiK"
      },
      "outputs": [],
      "source": [
        "data_2 = {'VA' : df_4['VA'][1:],\n",
        "          'MD' : df_4['MD'][2:]}\n",
        "df_5 = pd.DataFrame(data_2)\n",
        "df_5"
      ]
    },
    {
      "cell_type": "markdown",
      "metadata": {
        "id": "krP-sJJB2WiK"
      },
      "source": [
        "Set the DataFrame index name:"
      ]
    },
    {
      "cell_type": "code",
      "execution_count": null,
      "metadata": {
        "id": "5UIzpuQu2WiK"
      },
      "outputs": [],
      "source": [
        "df_5.index.name = 'year'\n",
        "df_5"
      ]
    },
    {
      "cell_type": "markdown",
      "metadata": {
        "id": "mhuO086N2WiK"
      },
      "source": [
        "Set the DataFrame columns name:"
      ]
    },
    {
      "cell_type": "code",
      "execution_count": null,
      "metadata": {
        "id": "N5ePxaIz2WiK"
      },
      "outputs": [],
      "source": [
        "df_5.columns.name = 'state'\n",
        "df_5"
      ]
    },
    {
      "cell_type": "markdown",
      "metadata": {
        "id": "Pc8xL6ZE2WiK"
      },
      "source": [
        "Return the data contained in a DataFrame as a 2D ndarray:"
      ]
    },
    {
      "cell_type": "code",
      "execution_count": null,
      "metadata": {
        "id": "LxsNCT5F2WiK"
      },
      "outputs": [],
      "source": [
        "df_5.values"
      ]
    },
    {
      "cell_type": "markdown",
      "metadata": {
        "id": "UGqsmFmM2WiL"
      },
      "source": [
        "If the columns are different dtypes, the 2D ndarray's dtype will accomodate all of the columns:"
      ]
    },
    {
      "cell_type": "code",
      "execution_count": null,
      "metadata": {
        "id": "r0tDS1MZ2WiL"
      },
      "outputs": [],
      "source": [
        "df_3.values"
      ]
    },
    {
      "cell_type": "markdown",
      "metadata": {
        "id": "Q8tthu1s2WiL"
      },
      "source": [
        "## Reindexing"
      ]
    },
    {
      "cell_type": "markdown",
      "metadata": {
        "id": "lzy-G_2L2WiL"
      },
      "source": [
        "Create a new object with the data conformed to a new index.  Any missing values are set to NaN."
      ]
    },
    {
      "cell_type": "code",
      "execution_count": null,
      "metadata": {
        "id": "bPkgSa3u2WiL"
      },
      "outputs": [],
      "source": [
        "df_3"
      ]
    },
    {
      "cell_type": "markdown",
      "metadata": {
        "id": "qQIcjGLr2WiL"
      },
      "source": [
        "Reindexing rows returns a new frame with the specified index:"
      ]
    },
    {
      "cell_type": "code",
      "execution_count": null,
      "metadata": {
        "id": "vGrjE_8b2WiL"
      },
      "outputs": [],
      "source": [
        "df_3.reindex(list(reversed(range(0, 6))))"
      ]
    },
    {
      "cell_type": "markdown",
      "metadata": {
        "id": "OzQrIgIB2WiM"
      },
      "source": [
        "Missing values can be set to something other than NaN:"
      ]
    },
    {
      "cell_type": "code",
      "execution_count": null,
      "metadata": {
        "id": "3QlR0-9t2WiM"
      },
      "outputs": [],
      "source": [
        "df_3.reindex(range(6, 0), fill_value=0)"
      ]
    },
    {
      "cell_type": "markdown",
      "metadata": {
        "id": "h-055kua2WiM"
      },
      "source": [
        "Interpolate ordered data like a time series:"
      ]
    },
    {
      "cell_type": "code",
      "execution_count": null,
      "metadata": {
        "id": "1jGHOazY2WiM"
      },
      "outputs": [],
      "source": [
        "ser_5 = pd.Series(['foo', 'bar', 'baz'], index=[0, 2, 4])"
      ]
    },
    {
      "cell_type": "code",
      "execution_count": null,
      "metadata": {
        "id": "3LQk38us2WiM"
      },
      "outputs": [],
      "source": [
        "ser_5.reindex(range(5), method='ffill')"
      ]
    },
    {
      "cell_type": "code",
      "execution_count": null,
      "metadata": {
        "id": "UAuPCIzF2WiN"
      },
      "outputs": [],
      "source": [
        "ser_5.reindex(range(5), method='bfill')"
      ]
    },
    {
      "cell_type": "markdown",
      "metadata": {
        "id": "Am004-wM2WiN"
      },
      "source": [
        "Reindex columns:"
      ]
    },
    {
      "cell_type": "code",
      "execution_count": null,
      "metadata": {
        "id": "pBUOCJlK2WiN"
      },
      "outputs": [],
      "source": [
        "df_3.reindex(columns=['state', 'pop', 'unempl', 'year'])"
      ]
    },
    {
      "cell_type": "markdown",
      "metadata": {
        "id": "84qyL_DH2WiN"
      },
      "source": [
        "Reindex rows and columns while filling rows:"
      ]
    },
    {
      "cell_type": "code",
      "execution_count": null,
      "metadata": {
        "id": "qTdSXaKV2WiO"
      },
      "outputs": [],
      "source": [
        "df_3.reindex(index=list(reversed(range(0, 6))),\n",
        "             fill_value=0,\n",
        "             columns=['state', 'pop', 'unempl', 'year'])"
      ]
    },
    {
      "cell_type": "markdown",
      "metadata": {
        "id": "ObdYGn6s2WiO"
      },
      "source": [
        "Reindex using ix:"
      ]
    },
    {
      "cell_type": "code",
      "execution_count": null,
      "metadata": {
        "id": "56EgZaia2WiO"
      },
      "outputs": [],
      "source": [
        "df_6 = df_3.iloc[np.arange(0, 6), ['state', 'pop', 'unempl', 'year']]\n",
        "df_6"
      ]
    },
    {
      "cell_type": "markdown",
      "metadata": {
        "id": "rreV-Ues2WiO"
      },
      "source": [
        "## Dropping Entries"
      ]
    },
    {
      "cell_type": "markdown",
      "metadata": {
        "id": "rtq_OsJ62WiO"
      },
      "source": [
        "Drop rows from a Series or DataFrame:"
      ]
    },
    {
      "cell_type": "code",
      "execution_count": null,
      "metadata": {
        "id": "3PjLD1eT2WiO"
      },
      "outputs": [],
      "source": [
        "df_7 = df_6.drop([0, 1])\n",
        "df_7"
      ]
    },
    {
      "cell_type": "markdown",
      "metadata": {
        "id": "XDYVO8sM2WiO"
      },
      "source": [
        "Drop columns from a DataFrame:"
      ]
    },
    {
      "cell_type": "code",
      "execution_count": null,
      "metadata": {
        "id": "jcbLySI92WiS"
      },
      "outputs": [],
      "source": [
        "df_7 = df_7.drop('unempl', axis=1)\n",
        "df_7"
      ]
    },
    {
      "cell_type": "markdown",
      "metadata": {
        "id": "KV5VjlyZ2WiT"
      },
      "source": [
        "## Indexing, Selecting, Filtering"
      ]
    },
    {
      "cell_type": "markdown",
      "metadata": {
        "id": "rjBrQt272WiT"
      },
      "source": [
        "Series indexing is similar to NumPy array indexing with the added bonus of being able to use the Series' index values."
      ]
    },
    {
      "cell_type": "code",
      "execution_count": null,
      "metadata": {
        "id": "O-l8e0qC2WiT"
      },
      "outputs": [],
      "source": [
        "ser_2"
      ]
    },
    {
      "cell_type": "markdown",
      "metadata": {
        "id": "JrMs-XR02WiT"
      },
      "source": [
        "Select a value from a Series:"
      ]
    },
    {
      "cell_type": "code",
      "execution_count": null,
      "metadata": {
        "id": "Bw48Wi-M2WiT"
      },
      "outputs": [],
      "source": [
        "ser_2[0] == ser_2['a']"
      ]
    },
    {
      "cell_type": "markdown",
      "metadata": {
        "id": "iP6On1rP2WiT"
      },
      "source": [
        "Select a slice from a Series:"
      ]
    },
    {
      "cell_type": "code",
      "execution_count": null,
      "metadata": {
        "id": "mzbllyqr2WiT"
      },
      "outputs": [],
      "source": [
        "ser_2[1:4]"
      ]
    },
    {
      "cell_type": "markdown",
      "metadata": {
        "id": "aQpVuzpc2WiU"
      },
      "source": [
        "Select specific values from a Series:"
      ]
    },
    {
      "cell_type": "code",
      "execution_count": null,
      "metadata": {
        "id": "ujsUjH1Q2WiU"
      },
      "outputs": [],
      "source": [
        "ser_2[['b', 'c', 'd']]"
      ]
    },
    {
      "cell_type": "markdown",
      "metadata": {
        "id": "CNkN61R62WiU"
      },
      "source": [
        "Select from a Series based on a filter:"
      ]
    },
    {
      "cell_type": "code",
      "execution_count": null,
      "metadata": {
        "id": "187Q1BW92WiU"
      },
      "outputs": [],
      "source": [
        "ser_2[ser_2 > 0]"
      ]
    },
    {
      "cell_type": "markdown",
      "metadata": {
        "id": "dGa1XOip2WiU"
      },
      "source": [
        "Select a slice from a Series with labels (note the end point is inclusive):"
      ]
    },
    {
      "cell_type": "code",
      "execution_count": null,
      "metadata": {
        "id": "Ff8SUw_n2WiU"
      },
      "outputs": [],
      "source": [
        "ser_2['a':'c']"
      ]
    },
    {
      "cell_type": "markdown",
      "metadata": {
        "id": "njM0cM7L2WiU"
      },
      "source": [
        "Assign to a Series slice (note the end point is inclusive):"
      ]
    },
    {
      "cell_type": "code",
      "execution_count": null,
      "metadata": {
        "id": "1MgiKjPP2WiU"
      },
      "outputs": [],
      "source": [
        "ser_2['a':'b'] = 0\n",
        "ser_2"
      ]
    },
    {
      "cell_type": "markdown",
      "metadata": {
        "id": "uiABb20Q2WiU"
      },
      "source": [
        "Pandas supports indexing into a DataFrame."
      ]
    },
    {
      "cell_type": "code",
      "execution_count": null,
      "metadata": {
        "id": "LXhr458J2WiV"
      },
      "outputs": [],
      "source": [
        "df_3"
      ]
    },
    {
      "cell_type": "markdown",
      "metadata": {
        "id": "XeDmHRW92WiV"
      },
      "source": [
        "Select specified columns from a DataFrame:"
      ]
    },
    {
      "cell_type": "code",
      "execution_count": null,
      "metadata": {
        "id": "ujr1Ktaz2WiV"
      },
      "outputs": [],
      "source": [
        "df_3[['pop', 'unempl']]"
      ]
    },
    {
      "cell_type": "markdown",
      "metadata": {
        "id": "MJnu38GJ2WiV"
      },
      "source": [
        "Select a slice from a DataFrame:"
      ]
    },
    {
      "cell_type": "code",
      "execution_count": null,
      "metadata": {
        "id": "KWdQI6Tb2WiV"
      },
      "outputs": [],
      "source": [
        "df_3.iloc[:2]"
      ]
    },
    {
      "cell_type": "code",
      "execution_count": null,
      "metadata": {
        "id": "guCMQfkl2WiV"
      },
      "outputs": [],
      "source": [
        "df_3"
      ]
    },
    {
      "cell_type": "markdown",
      "metadata": {
        "id": "Q0UI-_Ke2WiV"
      },
      "source": [
        "Select from a DataFrame based on a filter:"
      ]
    },
    {
      "cell_type": "code",
      "execution_count": null,
      "metadata": {
        "id": "1rYKCMIz2WiV"
      },
      "outputs": [],
      "source": [
        "df_3.loc[df_3['pop'] > 5,]"
      ]
    },
    {
      "cell_type": "code",
      "execution_count": null,
      "metadata": {
        "id": "YL79awCr2WiW"
      },
      "outputs": [],
      "source": [
        "df_3['pop'] > 5"
      ]
    },
    {
      "cell_type": "code",
      "execution_count": null,
      "metadata": {
        "id": "nku-KWz02WiW"
      },
      "outputs": [],
      "source": [
        "df_3.query('pop > 5')"
      ]
    },
    {
      "cell_type": "code",
      "execution_count": null,
      "metadata": {
        "id": "jd-3prVH2WiW"
      },
      "outputs": [],
      "source": [
        "df_3.loc[(df_3['pop'] > 5) | (df_3['year'] == 2013),]"
      ]
    },
    {
      "cell_type": "code",
      "execution_count": null,
      "metadata": {
        "id": "BsIqs-VA2WiW"
      },
      "outputs": [],
      "source": [
        "df_3.query('pop > 5 or year==2013')"
      ]
    },
    {
      "cell_type": "code",
      "execution_count": null,
      "metadata": {
        "id": "HtGI0pt32WiW"
      },
      "outputs": [],
      "source": [
        "df_3['pop'] > 5"
      ]
    },
    {
      "cell_type": "markdown",
      "metadata": {
        "id": "uqnzJkbL2WiW"
      },
      "source": [
        "Perform a scalar comparison on a DataFrame:"
      ]
    },
    {
      "cell_type": "code",
      "execution_count": null,
      "metadata": {
        "id": "ocT_vqfh2WiW"
      },
      "outputs": [],
      "source": [
        "df_6 > 5"
      ]
    },
    {
      "cell_type": "markdown",
      "metadata": {
        "id": "tJjVY_LT2WiW"
      },
      "source": [
        "Perform a scalar comparison on a DataFrame, retain the values that pass the filter:"
      ]
    },
    {
      "cell_type": "code",
      "execution_count": null,
      "metadata": {
        "id": "s2e7Kjy_2WiW"
      },
      "outputs": [],
      "source": [
        "df_6[df_6 > 5]"
      ]
    },
    {
      "cell_type": "markdown",
      "metadata": {
        "id": "XsAkbQTE2WiX"
      },
      "source": [
        "Select a slice of rows from a DataFrame (note the end point is inclusive):"
      ]
    },
    {
      "cell_type": "code",
      "execution_count": null,
      "metadata": {
        "id": "Sny9PETC2WiX"
      },
      "outputs": [],
      "source": [
        "df_6.ix[2:3]"
      ]
    },
    {
      "cell_type": "markdown",
      "metadata": {
        "id": "v7P-lLeG2WiX"
      },
      "source": [
        "Select a slice of rows from a specific column of a DataFrame:"
      ]
    },
    {
      "cell_type": "code",
      "execution_count": null,
      "metadata": {
        "id": "9WnZXXWF2WiX"
      },
      "outputs": [],
      "source": [
        "df_6.loc[0:2, 'pop']\n",
        "df_6"
      ]
    },
    {
      "cell_type": "code",
      "execution_count": null,
      "metadata": {
        "id": "K8eRqwET2WiY"
      },
      "outputs": [],
      "source": [
        "df_6.loc[df_6.unempl > 5.0, 'pop']"
      ]
    },
    {
      "cell_type": "markdown",
      "metadata": {
        "id": "_8gfCuJS2WiY"
      },
      "source": [
        "Select rows based on an arithmetic operation on a specific row:"
      ]
    },
    {
      "cell_type": "code",
      "execution_count": null,
      "metadata": {
        "id": "3MTsFkMh2WiY"
      },
      "outputs": [],
      "source": [
        "df_6.ix[df_6.unempl > 5.0]"
      ]
    },
    {
      "cell_type": "markdown",
      "metadata": {
        "id": "NLoRb02V2WiY"
      },
      "source": [
        "## Arithmetic and Data Alignment"
      ]
    },
    {
      "cell_type": "markdown",
      "metadata": {
        "id": "FlSIKD3f2WiY"
      },
      "source": [
        "Adding Series objects results in the union of index pairs if the pairs are not the same, resulting in NaN for indices that do not overlap:"
      ]
    },
    {
      "cell_type": "code",
      "execution_count": null,
      "metadata": {
        "id": "e5ssrMAA2WiY"
      },
      "outputs": [],
      "source": [
        "np.random.seed(0)\n",
        "ser_6 = pd.Series(np.random.randn(5),\n",
        "               index=['a', 'b', 'c', 'd', 'e'])\n",
        "ser_6"
      ]
    },
    {
      "cell_type": "code",
      "execution_count": null,
      "metadata": {
        "id": "rO5auGAb2WiZ"
      },
      "outputs": [],
      "source": [
        "np.random.seed(1)\n",
        "ser_7 = pd.Series(np.random.randn(5),\n",
        "               index=['a', 'c', 'e', 'f', 'g'])\n",
        "ser_7"
      ]
    },
    {
      "cell_type": "code",
      "execution_count": null,
      "metadata": {
        "id": "118mh3PU2WiZ"
      },
      "outputs": [],
      "source": [
        "ser_6 + ser_7"
      ]
    },
    {
      "cell_type": "markdown",
      "metadata": {
        "id": "d8tjInB12WiZ"
      },
      "source": [
        "Set a fill value instead of NaN for indices that do not overlap:"
      ]
    },
    {
      "cell_type": "code",
      "execution_count": null,
      "metadata": {
        "id": "liK_xE2Z2WiZ"
      },
      "outputs": [],
      "source": [
        "print(ser_6)\n",
        "print(ser_7)"
      ]
    },
    {
      "cell_type": "code",
      "execution_count": null,
      "metadata": {
        "id": "VLvjNQO22Wia"
      },
      "outputs": [],
      "source": [
        "ser_6.add(ser_7, fill_value=0)"
      ]
    },
    {
      "cell_type": "markdown",
      "metadata": {
        "id": "Lr58V2Zv2Wia"
      },
      "source": [
        "Adding DataFrame objects results in the union of index pairs for rows and columns if the pairs are not the same, resulting in NaN for indices that do not overlap:"
      ]
    },
    {
      "cell_type": "code",
      "execution_count": null,
      "metadata": {
        "id": "pjQrVXGJ2Wia"
      },
      "outputs": [],
      "source": [
        "np.random.seed(0)\n",
        "df_8 = pd.DataFrame(np.random.rand(9).reshape((3, 3)),\n",
        "                 columns=['a', 'b', 'c'])\n",
        "df_8"
      ]
    },
    {
      "cell_type": "code",
      "execution_count": null,
      "metadata": {
        "id": "Lmp1V04r2Wia"
      },
      "outputs": [],
      "source": [
        "np.random.seed(1)\n",
        "df_9 = pd.DataFrame(np.random.rand(9).reshape((3, 3)),\n",
        "                 columns=['b', 'c', 'd'])\n",
        "df_9"
      ]
    },
    {
      "cell_type": "code",
      "execution_count": null,
      "metadata": {
        "id": "LCFX8fOb2Wib"
      },
      "outputs": [],
      "source": [
        "df_8 + df_9"
      ]
    },
    {
      "cell_type": "markdown",
      "metadata": {
        "id": "eHik96So2Wib"
      },
      "source": [
        "Set a fill value instead of NaN for indices that do not overlap:"
      ]
    },
    {
      "cell_type": "code",
      "execution_count": null,
      "metadata": {
        "id": "BYWj0Dfv2Wib"
      },
      "outputs": [],
      "source": [
        "df_10 = df_8.add(df_9, fill_value=0)\n",
        "df_10"
      ]
    },
    {
      "cell_type": "markdown",
      "metadata": {
        "id": "EeoDAKl02Wic"
      },
      "source": [
        "Like NumPy, pandas supports arithmetic operations between DataFrames and Series.\n",
        "\n",
        "Match the index of the Series on the DataFrame's columns, broadcasting down the rows:"
      ]
    },
    {
      "cell_type": "code",
      "execution_count": null,
      "metadata": {
        "id": "4ZN97LXc2Wic"
      },
      "outputs": [],
      "source": [
        "ser_8 = df_10.ix[0]\n",
        "df_11 = df_10 - ser_8\n",
        "df_11"
      ]
    },
    {
      "cell_type": "markdown",
      "metadata": {
        "id": "afwvzu8s2Wic"
      },
      "source": [
        "Match the index of the Series on the DataFrame's columns, broadcasting down the rows and union the indices that do not match:"
      ]
    },
    {
      "cell_type": "code",
      "execution_count": null,
      "metadata": {
        "id": "R_uUQ9nz2Wic"
      },
      "outputs": [],
      "source": [
        "ser_9 = pd.Series(range(3), index=['a', 'd', 'e'])\n",
        "ser_9"
      ]
    },
    {
      "cell_type": "code",
      "execution_count": null,
      "metadata": {
        "id": "l3j5JGXq2Wid"
      },
      "outputs": [],
      "source": [
        "df_11 - ser_9"
      ]
    },
    {
      "cell_type": "markdown",
      "metadata": {
        "id": "Rp--7u-S2Wid"
      },
      "source": [
        "Broadcast over the columns and match the rows (axis=0) by using an arithmetic method:"
      ]
    },
    {
      "cell_type": "code",
      "execution_count": null,
      "metadata": {
        "id": "W7b_5I5A2Wid"
      },
      "outputs": [],
      "source": [
        "df_10"
      ]
    },
    {
      "cell_type": "code",
      "execution_count": null,
      "metadata": {
        "id": "-JKD-Jn82Wid"
      },
      "outputs": [],
      "source": [
        "ser_10 = pd.Series([100, 200, 300])\n",
        "ser_10"
      ]
    },
    {
      "cell_type": "code",
      "execution_count": null,
      "metadata": {
        "id": "bLGdPFah2Wid"
      },
      "outputs": [],
      "source": [
        "df_10.sub(ser_10, axis=0)"
      ]
    },
    {
      "cell_type": "markdown",
      "metadata": {
        "id": "TVBvwmyS2Wid"
      },
      "source": [
        "## Function Application and Mapping"
      ]
    },
    {
      "cell_type": "markdown",
      "metadata": {
        "id": "d426Cbxk2Wie"
      },
      "source": [
        "NumPy ufuncs (element-wise array methods) operate on pandas objects:"
      ]
    },
    {
      "cell_type": "code",
      "execution_count": null,
      "metadata": {
        "id": "hiAjw_6w2Wie"
      },
      "outputs": [],
      "source": [
        "df_11 = np.abs(df_11)\n",
        "df_11"
      ]
    },
    {
      "cell_type": "markdown",
      "metadata": {
        "id": "qtfUqbQ42Wie"
      },
      "source": [
        "Apply a function on 1D arrays to each column:"
      ]
    },
    {
      "cell_type": "code",
      "execution_count": null,
      "metadata": {
        "id": "RX6p01AP2Wie"
      },
      "outputs": [],
      "source": [
        "func_1 = lambda x: x.max() - x.min()\n",
        "df_11.apply(func_1)"
      ]
    },
    {
      "cell_type": "markdown",
      "metadata": {
        "id": "wBeDUigz2Wie"
      },
      "source": [
        "Apply a function on 1D arrays to each row:"
      ]
    },
    {
      "cell_type": "code",
      "execution_count": null,
      "metadata": {
        "id": "05abwpx_2Wie"
      },
      "outputs": [],
      "source": [
        "df_11.apply(func_1, axis=1)"
      ]
    },
    {
      "cell_type": "markdown",
      "metadata": {
        "id": "negqP9W12Wie"
      },
      "source": [
        "Apply a function and return a DataFrame:"
      ]
    },
    {
      "cell_type": "code",
      "execution_count": null,
      "metadata": {
        "id": "2hjbVMPZ2Wif"
      },
      "outputs": [],
      "source": [
        "func_2 = lambda x: pd.Series([x.min(), x.max()], index=['min', 'max'])\n",
        "df_11.apply(func_2)"
      ]
    },
    {
      "cell_type": "markdown",
      "metadata": {
        "id": "C8OitKkF2Wif"
      },
      "source": [
        "Apply an element-wise Python function to a DataFrame:"
      ]
    },
    {
      "cell_type": "code",
      "execution_count": null,
      "metadata": {
        "id": "rH7PEHCz2Wif"
      },
      "outputs": [],
      "source": [
        "func_3 = lambda x: '%.2f' %x\n",
        "df_11.applymap(func_3)"
      ]
    },
    {
      "cell_type": "markdown",
      "metadata": {
        "id": "eD9FWfGP2Wif"
      },
      "source": [
        "Apply an element-wise Python function to a Series:"
      ]
    },
    {
      "cell_type": "code",
      "execution_count": null,
      "metadata": {
        "id": "P14pfdtS2Wif"
      },
      "outputs": [],
      "source": [
        "df_11['e'] = df_11['a'].map(func_3)"
      ]
    },
    {
      "cell_type": "markdown",
      "metadata": {
        "id": "1zfj7X_v2Wif"
      },
      "source": [
        "## Sorting and Ranking"
      ]
    },
    {
      "cell_type": "code",
      "execution_count": null,
      "metadata": {
        "id": "M_6X7PR52Wif"
      },
      "outputs": [],
      "source": [
        "ser_4"
      ]
    },
    {
      "cell_type": "markdown",
      "metadata": {
        "id": "foRTYBf92Wig"
      },
      "source": [
        "Sort a Series by its index:"
      ]
    },
    {
      "cell_type": "code",
      "execution_count": null,
      "metadata": {
        "id": "fm6j_txU2Wig"
      },
      "outputs": [],
      "source": [
        "ser_4.sort_index()"
      ]
    },
    {
      "cell_type": "markdown",
      "metadata": {
        "id": "ASBRzzCy2Wig"
      },
      "source": [
        "Sort a Series by its values:"
      ]
    },
    {
      "cell_type": "code",
      "execution_count": null,
      "metadata": {
        "id": "5xU5ERgu2Wig"
      },
      "outputs": [],
      "source": [
        "ser_4.sort_values(ascending=False)"
      ]
    },
    {
      "cell_type": "code",
      "execution_count": null,
      "metadata": {
        "id": "iOB6IJEa2Wig"
      },
      "outputs": [],
      "source": [
        "df_12 = pd.DataFrame(np.arange(12).reshape((3, 4)),\n",
        "                  index=['three', 'one', 'two'],\n",
        "                  columns=['c', 'a', 'b', 'd'])\n",
        "df_12"
      ]
    },
    {
      "cell_type": "markdown",
      "metadata": {
        "id": "e0SUrS7C2Wig"
      },
      "source": [
        "Sort a DataFrame by its index:"
      ]
    },
    {
      "cell_type": "code",
      "execution_count": null,
      "metadata": {
        "id": "EmwxikMQ2Wig"
      },
      "outputs": [],
      "source": [
        "df_12.sort_index()"
      ]
    },
    {
      "cell_type": "markdown",
      "metadata": {
        "id": "c9MTIjXw2Wih"
      },
      "source": [
        "Sort a DataFrame by columns in descending order:"
      ]
    },
    {
      "cell_type": "code",
      "execution_count": null,
      "metadata": {
        "id": "e-uWfolT2Wih"
      },
      "outputs": [],
      "source": [
        "df_12.sort_index(axis=1, ascending=False)"
      ]
    },
    {
      "cell_type": "markdown",
      "metadata": {
        "id": "0qPpYaQL2Wih"
      },
      "source": [
        "Sort a DataFrame's values by column:"
      ]
    },
    {
      "cell_type": "code",
      "execution_count": null,
      "metadata": {
        "id": "ED2utyMN2Wih"
      },
      "outputs": [],
      "source": [
        "df_12.sort_index(by=['d', 'c'])"
      ]
    },
    {
      "cell_type": "markdown",
      "metadata": {
        "id": "7pwtBWeP2Wih"
      },
      "source": [
        "Ranking is similar to numpy.argsort except that ties are broken by assigning each group the mean rank:"
      ]
    },
    {
      "cell_type": "code",
      "execution_count": null,
      "metadata": {
        "id": "8BlqcGh_2Wih"
      },
      "outputs": [],
      "source": [
        "ser_11 = pd.Series([7, -5, 7, 4, 2, 0, 4, 7])\n",
        "ser_11 = ser_11.order()\n",
        "ser_11"
      ]
    },
    {
      "cell_type": "code",
      "execution_count": null,
      "metadata": {
        "id": "MVGEY8MY2Wih"
      },
      "outputs": [],
      "source": [
        "ser_11.rank()"
      ]
    },
    {
      "cell_type": "markdown",
      "metadata": {
        "id": "qECKp74w2Wih"
      },
      "source": [
        "Rank a Series according to when they appear in the data:"
      ]
    },
    {
      "cell_type": "code",
      "execution_count": null,
      "metadata": {
        "id": "bcnQWL9z2Wii"
      },
      "outputs": [],
      "source": [
        "ser_11.rank(method='first')"
      ]
    },
    {
      "cell_type": "markdown",
      "metadata": {
        "id": "ntmf-Ofk2Wii"
      },
      "source": [
        "Rank a Series in descending order, using the maximum rank for the group:"
      ]
    },
    {
      "cell_type": "code",
      "execution_count": null,
      "metadata": {
        "id": "paQLi3Bj2Wii"
      },
      "outputs": [],
      "source": [
        "ser_11.rank(ascending=False, method='max')"
      ]
    },
    {
      "cell_type": "markdown",
      "metadata": {
        "id": "-Ja-dZxw2Wii"
      },
      "source": [
        "DataFrames can rank over rows or columns."
      ]
    },
    {
      "cell_type": "code",
      "execution_count": null,
      "metadata": {
        "id": "wRojp_k62Wii"
      },
      "outputs": [],
      "source": [
        "df_13 = pd.DataFrame({'foo' : [7, -5, 7, 4, 2, 0, 4, 7],\n",
        "                   'bar' : [-5, 4, 2, 0, 4, 7, 7, 8],\n",
        "                   'baz' : [-1, 2, 3, 0, 5, 9, 9, 5]})\n",
        "df_13"
      ]
    },
    {
      "cell_type": "markdown",
      "metadata": {
        "id": "mNw-vEsV2Wii"
      },
      "source": [
        "Rank a DataFrame over rows:"
      ]
    },
    {
      "cell_type": "code",
      "execution_count": null,
      "metadata": {
        "id": "f-QWFa6z2Wii"
      },
      "outputs": [],
      "source": [
        "df_13.rank()"
      ]
    },
    {
      "cell_type": "markdown",
      "metadata": {
        "id": "Vq1n-xHy2Wii"
      },
      "source": [
        "Rank a DataFrame over columns:"
      ]
    },
    {
      "cell_type": "code",
      "execution_count": null,
      "metadata": {
        "id": "ksdYE7ox2Wii"
      },
      "outputs": [],
      "source": [
        "df_13.rank(axis=1)"
      ]
    },
    {
      "cell_type": "markdown",
      "metadata": {
        "id": "YW_kEvhe2Wij"
      },
      "source": [
        "## Axis Indexes with Duplicate Values"
      ]
    },
    {
      "cell_type": "markdown",
      "metadata": {
        "id": "KIm1zGnD2Wij"
      },
      "source": [
        "Labels do not have to be unique in Pandas:"
      ]
    },
    {
      "cell_type": "code",
      "execution_count": null,
      "metadata": {
        "id": "BE1lkeXL2Wij"
      },
      "outputs": [],
      "source": [
        "ser_12 = pd.Series(range(5), index=['foo', 'foo', 'bar', 'bar', 'baz'])\n",
        "ser_12"
      ]
    },
    {
      "cell_type": "code",
      "execution_count": null,
      "metadata": {
        "id": "BSQJLNvY2Wij"
      },
      "outputs": [],
      "source": [
        "ser_12.index.is_unique"
      ]
    },
    {
      "cell_type": "markdown",
      "metadata": {
        "id": "AsOPWV2a2Wij"
      },
      "source": [
        "Select Series elements:"
      ]
    },
    {
      "cell_type": "code",
      "execution_count": null,
      "metadata": {
        "id": "mI6pchF32Wij"
      },
      "outputs": [],
      "source": [
        "ser_12['foo']"
      ]
    },
    {
      "cell_type": "markdown",
      "metadata": {
        "id": "ubc55x4B2Wij"
      },
      "source": [
        "Select DataFrame elements:"
      ]
    },
    {
      "cell_type": "code",
      "execution_count": null,
      "metadata": {
        "id": "E0qEJM1W2Wij"
      },
      "outputs": [],
      "source": [
        "df_14 = pd.DataFrame(np.random.randn(5, 4),\n",
        "                  index=['foo', 'foo', 'bar', 'bar', 'baz'])\n",
        "df_14"
      ]
    },
    {
      "cell_type": "code",
      "execution_count": null,
      "metadata": {
        "id": "fasZMbFY2Wik"
      },
      "outputs": [],
      "source": [
        "df_14.ix['bar']"
      ]
    },
    {
      "cell_type": "markdown",
      "metadata": {
        "id": "wbpXWHYV2Wik"
      },
      "source": [
        "## Summarizing and Computing Descriptive Statistics"
      ]
    },
    {
      "cell_type": "markdown",
      "metadata": {
        "id": "y80ugYy52Wik"
      },
      "source": [
        "Unlike NumPy arrays, Pandas descriptive statistics automatically exclude missing data.  NaN values are excluded unless the entire row or column is NA."
      ]
    },
    {
      "cell_type": "code",
      "execution_count": null,
      "metadata": {
        "id": "-xIuhVNc2Wik"
      },
      "outputs": [],
      "source": [
        "df_15 = pd.DataFrame(np.random.randn(10, 3),\n",
        "                     columns=['a', 'b', 'c'])\n",
        "df_15['cat1'] = (np.random.rand(10) * 3).round(0)\n",
        "df_15['cat2'] = (np.random.rand(10)).round(0)"
      ]
    },
    {
      "cell_type": "code",
      "execution_count": null,
      "metadata": {
        "id": "Vv7ebtGx2Wik"
      },
      "outputs": [],
      "source": [
        "df_15"
      ]
    },
    {
      "cell_type": "markdown",
      "metadata": {
        "id": "M68Jfb9t2Wik"
      },
      "source": [
        "### Sum and Mean"
      ]
    },
    {
      "cell_type": "code",
      "execution_count": null,
      "metadata": {
        "id": "plAJhhd52Wik"
      },
      "outputs": [],
      "source": [
        "df_15.sum()"
      ]
    },
    {
      "cell_type": "code",
      "execution_count": null,
      "metadata": {
        "id": "vRbF5Ufi2Wik"
      },
      "outputs": [],
      "source": [
        "df_15.sum(axis=1)"
      ]
    },
    {
      "cell_type": "code",
      "execution_count": null,
      "metadata": {
        "id": "anHp9aFA2Wil"
      },
      "outputs": [],
      "source": [
        "df_15.mean(axis=0)"
      ]
    },
    {
      "cell_type": "markdown",
      "metadata": {
        "id": "alL6dawU2Wil"
      },
      "source": [
        "### Max and max location"
      ]
    },
    {
      "cell_type": "code",
      "execution_count": null,
      "metadata": {
        "id": "23mRYUSp2Wil"
      },
      "outputs": [],
      "source": [
        "df_15.max()"
      ]
    },
    {
      "cell_type": "code",
      "execution_count": null,
      "metadata": {
        "id": "XcTnV-xB2Wil"
      },
      "outputs": [],
      "source": [
        "df_15.idxmax()"
      ]
    },
    {
      "cell_type": "markdown",
      "metadata": {
        "id": "63FC8Is22Wil"
      },
      "source": [
        "### Descriptive analysis"
      ]
    },
    {
      "cell_type": "code",
      "execution_count": null,
      "metadata": {
        "id": "sjnXS-7L2Wil"
      },
      "outputs": [],
      "source": [
        "df_15['a'].describe()"
      ]
    },
    {
      "cell_type": "code",
      "execution_count": null,
      "metadata": {
        "id": "QUwIq0182Wil"
      },
      "outputs": [],
      "source": [
        "df_15['cat1'].value_counts()"
      ]
    },
    {
      "cell_type": "markdown",
      "metadata": {
        "id": "dxWa27Y42Wil"
      },
      "source": [
        "## Pivot tables"
      ]
    },
    {
      "cell_type": "markdown",
      "metadata": {
        "id": "Z2Hg_Z8_2Wil"
      },
      "source": [
        "### group by cat1 and calculate mean"
      ]
    },
    {
      "cell_type": "code",
      "execution_count": null,
      "metadata": {
        "id": "-5hK8UUu2Wim"
      },
      "outputs": [],
      "source": [
        "pd.pivot_table(df_15, index='cat1', aggfunc=np.mean)"
      ]
    },
    {
      "cell_type": "markdown",
      "metadata": {
        "id": "H6hYvdEi2Wim"
      },
      "source": [
        "### group by cat1 and cat2 calculate the sum of b"
      ]
    },
    {
      "cell_type": "code",
      "execution_count": null,
      "metadata": {
        "id": "-58TkGqs2Wim"
      },
      "outputs": [],
      "source": [
        "pd.pivot_table(df_15, index='cat1', columns='cat2', values='b', aggfunc=np.sum)"
      ]
    }
  ],
  "metadata": {
    "kernelspec": {
      "display_name": "Python 3",
      "language": "python",
      "name": "python3"
    },
    "language_info": {
      "codemirror_mode": {
        "name": "ipython",
        "version": 3
      },
      "file_extension": ".py",
      "mimetype": "text/x-python",
      "name": "python",
      "nbconvert_exporter": "python",
      "pygments_lexer": "ipython3",
      "version": "3.7.6"
    },
    "colab": {
      "provenance": [],
      "include_colab_link": true
    }
  },
  "nbformat": 4,
  "nbformat_minor": 0
}