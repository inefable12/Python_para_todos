{
  "cells": [
    {
      "cell_type": "markdown",
      "metadata": {
        "id": "view-in-github",
        "colab_type": "text"
      },
      "source": [
        "<a href=\"https://colab.research.google.com/github/inefable12/Python_para_todos/blob/main/01_Introduccion_a_Python.ipynb\" target=\"_parent\"><img src=\"https://colab.research.google.com/assets/colab-badge.svg\" alt=\"Open In Colab\"/></a>"
      ]
    },
    {
      "cell_type": "markdown",
      "source": [
        "<img src=\"https://miro.medium.com/v2/resize:fit:1400/1*zomnCz8-VMgrSV8eLCx2tw.gif\" width=\"200\" alt=\"molecula\"  />\n",
        "\n",
        "$$\\Large \\textit{Cuadernos de Código}$$\n",
        "\n",
        "---\n",
        "$$\\large\\textbf{Introducción a Python}$$\n",
        "\n",
        "---\n",
        "$$\\textit{Resumen}$$\n",
        "\n",
        "<br>\n",
        "<br>"
      ],
      "metadata": {
        "id": "WVpEMKMK1iBy"
      }
    },
    {
      "cell_type": "markdown",
      "source": [
        "Basado en: https://github.com/albahnsen/PracticalMachineLearningClass"
      ],
      "metadata": {
        "id": "7PazNmGu3ke6"
      }
    },
    {
      "cell_type": "markdown",
      "metadata": {
        "id": "lhA5DANk1d43"
      },
      "source": [
        "## ¿Por qué elegir Python para Análisis de Datos?\n",
        "\n",
        "Python es el lenguaje de programación de elección para muchos científicos, en gran medida porque ofrece una gran cantidad de poder para analizar y modelar datos con relativamente pocos gastos generales en términos de tiempo de aprendizaje, instalación o desarrollo.\n",
        "\n",
        "El [tutorial de Python](http://docs.python.org/3/tutorial/) es un excelente lugar para comenzar a familiarizarse con el lenguaje. Aquí hay algunos motivos que favorecen el aprendizaje de Python:\n",
        "\n",
        "- De código abierto - gratis para instalar\n",
        "- Impresionante comunidad en línea\n",
        "- Muy fácil de aprender\n",
        "- Puede convertirse en un lenguaje común para la ciencia de datos y la producción de productos analíticos basados en la web."
      ]
    },
    {
      "cell_type": "markdown",
      "metadata": {
        "id": "z5ABxgwK1d48"
      },
      "source": [
        "## Pero ... y si ya sabemos R?\n",
        "\n",
        "... ¿Cuál es mejor? Es una pregunta difícil de responder, pero aquí dejamos algunos artículos que tratan de resaltar las ventajas y desventajas de cada uno.\n",
        "\n",
        "https://www.datanami.com/2018/07/19/python-gains-traction-among-data-scientists/\n",
        "\n",
        "https://elitedatascience.com/r-vs-python-for-data-science\n",
        "\n",
        "https://www.datacamp.com/community/tutorials/r-or-python-for-data-analysis\n",
        "\n",
        "http://www.kdnuggets.com/2015/05/r-vs-python-data-science.html\n",
        "\n",
        "http://www.kdnuggets.com/2015/03/the-grammar-data-science-python-vs-r.html\n",
        "\n",
        "https://www.dataquest.io/blog/python-vs-r/\n",
        "\n",
        "http://www.dataschool.io/python-or-r-for-data-science/\n",
        "\n",
        "https://www.digitalvidya.com/blog/r-vs-python/"
      ]
    },
    {
      "cell_type": "markdown",
      "metadata": {
        "id": "p9v309_D1d49"
      },
      "source": [
        "### Validemos la instalación de los paquetes de Anaconda\n",
        "\n",
        "Tu puedes ejecutar el siguiente código para revisar las versiones de los paquetes que deberían estár instalados.\n",
        "\n",
        "* [Python](http://www.python.org): Usaremos la version 3.6.\n",
        "* [Numpy](http://www.numpy.org): Extensión numérica para cálculos de algebra lineal y con matrices multidimensionales.\n",
        "* [Scipy](http://www.scipy.org): Libería adicional para programación científica.\n",
        "* [Matplotlib](http://matplotlib.sf.net): Librería para realizar gráficas y ploteos.\n",
        "* [IPython](http://ipython.org): Librería para manejar la interfaz del notebook.\n",
        "* [Pandas](http://pandas.pydata.org/): Librería para análisis de datos.\n",
        "* [Seaborn](stanford.edu/~mwaskom/software/seaborn/): Librería usado principalmente para gráficos con estilos.\n",
        "* [scikit-learn](http://scikit-learn.org), Librería de Machine learning."
      ]
    },
    {
      "cell_type": "code",
      "execution_count": null,
      "metadata": {
        "id": "ylrKYJ_f1d49"
      },
      "outputs": [],
      "source": [
        "!pip freeze"
      ]
    },
    {
      "cell_type": "code",
      "execution_count": null,
      "metadata": {
        "id": "9jQMeGre1d4-"
      },
      "outputs": [],
      "source": [
        "#windows\n",
        "!dir"
      ]
    },
    {
      "cell_type": "code",
      "execution_count": null,
      "metadata": {
        "id": "cEN7JzIT1d4_"
      },
      "outputs": [],
      "source": [
        "#unix\n",
        "!ls"
      ]
    },
    {
      "cell_type": "markdown",
      "metadata": {
        "id": "Z1sMoRl81d4_"
      },
      "source": [
        "<div class=\"alert alert-info\" role=\"alert\">\n",
        "  <strong>Nota:</strong> Para ejecutar el contenido de una celda presionar **`shift` + `enter`**\n",
        "</div>"
      ]
    },
    {
      "cell_type": "code",
      "execution_count": null,
      "metadata": {
        "id": "-xQx-aBj1d4_"
      },
      "outputs": [],
      "source": [
        "import sys #importar un paquete\n",
        "\n",
        "print('Versión de Python:', sys.version)\n",
        "\n",
        "import IPython\n",
        "print('IPython:', IPython.__version__)\n",
        "\n",
        "import numpy\n",
        "print('Numpy:', numpy.__version__)\n",
        "\n",
        "import scipy\n",
        "print('Scipy:', scipy.__version__)\n",
        "\n",
        "import matplotlib\n",
        "print('Matplotlib:', matplotlib.__version__)\n",
        "\n",
        "import pandas\n",
        "print('Pandas:', pandas.__version__)\n",
        "\n",
        "import sklearn\n",
        "print('Scikit-learn:', sklearn.__version__)\n",
        "\n",
        "import seaborn\n",
        "print('Seaborn', seaborn.__version__)"
      ]
    },
    {
      "cell_type": "code",
      "execution_count": null,
      "metadata": {
        "id": "Er781L2G1d4_"
      },
      "outputs": [],
      "source": [
        "!pip install -U pandas==1.4.1"
      ]
    },
    {
      "cell_type": "markdown",
      "metadata": {
        "id": "hMcqQb-g1d5A"
      },
      "source": [
        "En este notebook tendremos una introducción a Python. Existen muchos recursos en línea donde se puede aprender este lenguaje con mayor profundidad. El [Tutorial de Python](http://docs.python.org/2/tutorial/) es un buen punto de partida. Aquí listo algunos de los más importantes:\n",
        "\n",
        "1. [Udemy](https://www.udemy.com/)\n",
        "2. [DataCamp](https://www.datacamp.com/)\n",
        "3. [DataQuest](https://www.dataquest.io/)\n",
        "4. [Coursera](https://www.coursera.org/)\n",
        "5. [Udacity](https://www.udacity.com/)\n",
        "6. [Analytics Vidya](https://www.analyticsvidhya.com/)\n",
        "7. [Databricks](https://databricks.com/) (Uso del Api de Python para Spark)\n",
        "8. [Towards Data Science](https://towardsdatascience.com/)\n",
        "9. [Kdnuggets](https://www.kdnuggets.com/)\n",
        "\n",
        "Durante las sesiones de clase, haremos uso de los Notebooks. Una buena introducción a los notebooks se puede encontrar en la [Documentación de Jupyter](https://jupyter-notebook.readthedocs.io/en/stable/).\n",
        "\n",
        "De forma general, los notebooks tiene celdas de código (que por lo general son seguidas de celdas de resultados) y de texto. Un ejemplo de celda de texto es lo que estas leyendo ahora. Las celdas de código se reconocen fácilmente porque empiezan con **`In []:`** y con algún número, por lo general entre los corchetes, una vez que son ejecutados. Si ubicas tu cursor en una de las celdas de código y presionas **`shift` + `enter`**, el código se ejecutará en el intérprete de Python y el resultado se pintará en la celda de salida o resultado.\n",
        "\n"
      ]
    },
    {
      "cell_type": "markdown",
      "metadata": {
        "id": "mv-uVr9h1d5A"
      },
      "source": [
        "# I. Tipos de variables\n",
        "\n",
        "Python es un lenguaje de tipado dinámico, o sea que las variables no tienen un tipo y por lo tanto no deben ser declaradas. Los valores, sin embargo, tienen tipo. Puedes consultar a una variable el tipo de valor que contiene.\n",
        "\n",
        "Estos tipos son,\n",
        "\n",
        "| Nro | Tipo de Dato |\n",
        "|------|------|\n",
        "| 1. |   Booleanos  |\n",
        "| 2. |   Numéricos  |\n",
        "| 3. |   Cadenas de caractéres o Strings  |\n",
        "| 4. |   Datos binarios o Bytes  |\n",
        "| 5. |   Listas  |\n",
        "| 6. |   Tuplas  |\n",
        "| 7. |   Rangos  |\n",
        "| 8. |   Conjuntos o Sets  |\n",
        "| 9. |   Diccionarios  |"
      ]
    },
    {
      "cell_type": "markdown",
      "metadata": {
        "id": "kHwOhh-m1d5A"
      },
      "source": [
        "## 1. Booleanos\n",
        "\n",
        "Los tipos de datos booleanos pueden tomar dos valores: Verdadero (True) o Falso (False). Se pueden declarar variables con un valor de tipo booleano y también evaluar expresiones para obtener un valor tipo booleano."
      ]
    },
    {
      "cell_type": "code",
      "execution_count": null,
      "metadata": {
        "id": "2SBGkPgV1d5A"
      },
      "outputs": [],
      "source": [
        "# Declarar una variable con un valor del tipo booleano\n",
        "var = True\n",
        "print(var, type(var))"
      ]
    },
    {
      "cell_type": "code",
      "execution_count": null,
      "metadata": {
        "id": "1Y-_zZJD1d5B"
      },
      "outputs": [],
      "source": [
        "# Declarar una variable con un valor resultado de una expresión\n",
        "x = 24\n",
        "var = (x > 20)\n",
        "print(var, type(var))"
      ]
    },
    {
      "cell_type": "markdown",
      "metadata": {
        "id": "05itCTJ31d5D"
      },
      "source": [
        "## 2. Numéricos\n",
        "\n",
        "Los tipos de datos numéricos son ampliamente usados en Python. Existen 3 tipos importantes,\n",
        "\n",
        "- Números enteros (\"int\" del inglés integer, entero)\n",
        "- Números racionales (\"float\" del inglés floating point, punto flotante)\n",
        "- Números complejos (\"complex\" del inglés complex, complejo)\n",
        "\n",
        "En Python 2 existía int (entero corto) y long (entero largo). En Python 3 sólo existe int."
      ]
    },
    {
      "cell_type": "markdown",
      "metadata": {
        "id": "h8ookuUr1d5D"
      },
      "source": [
        "### Tipo de dato entero"
      ]
    },
    {
      "cell_type": "code",
      "execution_count": null,
      "metadata": {
        "id": "2NHJaV-P1d5D"
      },
      "outputs": [],
      "source": [
        "# Declarar un variable con un valor entero\n",
        "x = 24\n",
        "print(x, type(x))"
      ]
    },
    {
      "cell_type": "code",
      "execution_count": null,
      "metadata": {
        "id": "erPMlJMW1d5D"
      },
      "outputs": [],
      "source": [
        "# Declarar una variable con un valor numérico usando la función int\n",
        "x = int(3.1416)\n",
        "print(x, type(x))"
      ]
    },
    {
      "cell_type": "code",
      "execution_count": null,
      "metadata": {
        "id": "19bhaWMN1d5E"
      },
      "outputs": [],
      "source": [
        "x = 3.1416\n",
        "print(x, type(x))"
      ]
    },
    {
      "cell_type": "markdown",
      "metadata": {
        "id": "exsNy5qr1d5E"
      },
      "source": [
        "<div class=\"alert alert-info\" role=\"alert\">\n",
        "  <strong>Nota:</strong> Help es uno de los comandos utilizados para obtener documentación sobre objetos definidos en el scope actual, tanto los incorporados como los definidos por el usuario.\n",
        "</div>"
      ]
    },
    {
      "cell_type": "code",
      "execution_count": null,
      "metadata": {
        "collapsed": true,
        "id": "lEdTpbFq1d5E"
      },
      "outputs": [],
      "source": [
        "help(int)"
      ]
    },
    {
      "cell_type": "code",
      "execution_count": null,
      "metadata": {
        "id": "FDwAL0sC1d5E"
      },
      "outputs": [],
      "source": [
        "??int"
      ]
    },
    {
      "cell_type": "code",
      "execution_count": null,
      "metadata": {
        "id": "7N_prixz1d5E"
      },
      "outputs": [],
      "source": [
        "help(x)"
      ]
    },
    {
      "cell_type": "markdown",
      "metadata": {
        "id": "F0TcMhRW1d5E"
      },
      "source": [
        "Los métodos que empiezan y terminan con doble guión bajo (\\_\\_) se usan para indicar que son objetos o atributos mágicos. Estos métodos pueden ser invocados directamente, pero su propósito es ser ejecutados de manera indirecta."
      ]
    },
    {
      "cell_type": "code",
      "execution_count": null,
      "metadata": {
        "id": "OIBGQQ931d5F"
      },
      "outputs": [],
      "source": [
        "x = -3.1416\n",
        "y = x.__abs__()"
      ]
    },
    {
      "cell_type": "code",
      "execution_count": null,
      "metadata": {
        "id": "Y0IkBC6F1d5F"
      },
      "outputs": [],
      "source": [
        "abs(x)"
      ]
    },
    {
      "cell_type": "code",
      "execution_count": null,
      "metadata": {
        "id": "IkjHARKQ1d5F"
      },
      "outputs": [],
      "source": [
        "print(x)\n",
        "print(y)"
      ]
    },
    {
      "cell_type": "markdown",
      "metadata": {
        "id": "Tuv34NSl1d5G"
      },
      "source": [
        "### Tipo de dato de punto flotante"
      ]
    },
    {
      "cell_type": "code",
      "execution_count": null,
      "metadata": {
        "id": "6DUMw0qq1d5G"
      },
      "outputs": [],
      "source": [
        "# Declarar un variable con un valor del tipo punto flotante\n",
        "\n",
        "x = 24.0\n",
        "print(x, type(x))"
      ]
    },
    {
      "cell_type": "code",
      "execution_count": null,
      "metadata": {
        "id": "bulGIEAa1d5G"
      },
      "outputs": [],
      "source": [
        "# Declarar una variable con un valor numérico usando la función float\n",
        "\n",
        "x = float(24)\n",
        "print(x, type(x))"
      ]
    },
    {
      "cell_type": "markdown",
      "metadata": {
        "id": "muzGwf0w1d5H"
      },
      "source": [
        "## 3. Cadenas de caractéres\n",
        "\n",
        "Los tipos de datos string o cadenas de caractéres son ampliamente usados en la administración y análisis de datos. Python soporta el uso de dos diversos tipo de cadenas: ASCII y Unicode.\n",
        "\n",
        "- Las cadenas ASCII se delimitan por '...', \"...\" o \"\"\"...\"\"\". Las comillas triples delimitan cadenas multilínea. Las cadenas Unicode comienzan con un `u` seguido por la cadena conteniendo caracteres Unicode.\n",
        "\n",
        "- Unicode es un estándar de codificación de caracteres diseñado para facilitar el tratamiento de textos de múltiples lenguajes. Una cadena Unicode puede convertirse en una cadena ASCII seleccionando una codificación, por ejemplo el utf-8."
      ]
    },
    {
      "cell_type": "markdown",
      "metadata": {
        "id": "Q6KZDarW1d5H"
      },
      "source": [
        "<div class=\"alert alert-info\" role=\"alert\">\n",
        "  <strong>Nota:</strong> En Python 3.x todas las cadenas de texto cuando se declaran son secuencias de caracteres Unicode, es decir no existen cadenas codificadas en CP-1252 o en UTF-8 y, por tanto, no sería correcto hablar de codificaciones específicas si no es para decir que es posible convertir una cadena de caracteres en una secuencia de bytes (o viceversa) con una codificación determinada (como UTF-8, por poner un ejemplo)\n",
        "</div>"
      ]
    },
    {
      "cell_type": "code",
      "execution_count": null,
      "metadata": {
        "id": "_Sjkv9ed1d5H"
      },
      "outputs": [],
      "source": [
        "# Definición de variables con tipo de valor 'str' (Unicode)\n",
        "\n",
        "x=str('\"Machine Learning con Python\"')\n",
        "print(x, type(x))"
      ]
    },
    {
      "cell_type": "code",
      "execution_count": null,
      "metadata": {
        "id": "FNEObpm11d5H"
      },
      "outputs": [],
      "source": [
        "x='Machine Learning con Python'\n",
        "print(x, type(x))"
      ]
    },
    {
      "cell_type": "code",
      "execution_count": null,
      "metadata": {
        "collapsed": true,
        "id": "7Ed5LulX1d5I"
      },
      "outputs": [],
      "source": [
        "help(str)"
      ]
    },
    {
      "cell_type": "markdown",
      "metadata": {
        "id": "p4uhUNbT1d5I"
      },
      "source": [
        "Algunos métodos con las cadenas"
      ]
    },
    {
      "cell_type": "code",
      "execution_count": null,
      "metadata": {
        "id": "vJtjC0lu1d5I"
      },
      "outputs": [],
      "source": [
        "x.lower()"
      ]
    },
    {
      "cell_type": "code",
      "execution_count": null,
      "metadata": {
        "id": "sPu_cl831d5J"
      },
      "outputs": [],
      "source": [
        "print(x)"
      ]
    },
    {
      "cell_type": "code",
      "execution_count": null,
      "metadata": {
        "id": "I-amnvlW1d5J"
      },
      "outputs": [],
      "source": [
        "x.upper()"
      ]
    },
    {
      "cell_type": "code",
      "execution_count": null,
      "metadata": {
        "id": "hyowqxmR1d5J"
      },
      "outputs": [],
      "source": [
        "x.title()"
      ]
    },
    {
      "cell_type": "code",
      "execution_count": null,
      "metadata": {
        "id": "qKGnSp8g1d5J"
      },
      "outputs": [],
      "source": [
        "x.split(\" \")"
      ]
    },
    {
      "cell_type": "code",
      "execution_count": null,
      "metadata": {
        "id": "z489N9hR1d5J"
      },
      "outputs": [],
      "source": [
        "type(x.split(\" \"))"
      ]
    },
    {
      "cell_type": "code",
      "execution_count": null,
      "metadata": {
        "id": "3am-DtOl1d5K"
      },
      "outputs": [],
      "source": [
        "x=\" Machine Learning con Python \"\n",
        "print(x, type(x))"
      ]
    },
    {
      "cell_type": "code",
      "execution_count": null,
      "metadata": {
        "id": "bo-JODLy1d5K"
      },
      "outputs": [],
      "source": [
        "x.strip()"
      ]
    },
    {
      "cell_type": "code",
      "execution_count": null,
      "metadata": {
        "id": "OkoH14IN1d5K"
      },
      "outputs": [],
      "source": [
        "x = \"1234\""
      ]
    },
    {
      "cell_type": "code",
      "execution_count": null,
      "metadata": {
        "id": "VLfci7io1d5K"
      },
      "outputs": [],
      "source": [
        "x.zfill(8)"
      ]
    },
    {
      "cell_type": "code",
      "execution_count": null,
      "metadata": {
        "id": "x2wbN9Jl1d5K"
      },
      "outputs": [],
      "source": [
        "x[1]"
      ]
    },
    {
      "cell_type": "markdown",
      "metadata": {
        "id": "nw4EFNnP1d5N"
      },
      "source": [
        "## 5. Listas\n",
        "\n",
        "Una lista es una secuencia ordenada de valores. Son mutables, es decir, puede redefinirse el número de elementos y cambiar sus valores. Se pueden crear usando la función list() o los símbolos [ ].\n",
        "\n",
        "Las listas son el tipo de variables más usadas en Python, dada su facilidad y flexibilidad para almacenar diferentes tipos de valores."
      ]
    },
    {
      "cell_type": "markdown",
      "metadata": {
        "id": "XEjhtHan1d5N"
      },
      "source": [
        "### Definir un objeto tipo lista"
      ]
    },
    {
      "cell_type": "code",
      "execution_count": null,
      "metadata": {
        "id": "d54ZdkMn1d5N"
      },
      "outputs": [],
      "source": [
        "# Crear una lista vacía\n",
        "\n",
        "x=list()\n",
        "print(x, type(x), len(x))"
      ]
    },
    {
      "cell_type": "code",
      "execution_count": null,
      "metadata": {
        "id": "NS-9hfD31d5N"
      },
      "outputs": [],
      "source": [
        "x=[]\n",
        "print(x, type(x), len(x))"
      ]
    },
    {
      "cell_type": "code",
      "execution_count": null,
      "metadata": {
        "id": "JyWUyOUu1d5N"
      },
      "outputs": [],
      "source": [
        "# Crear una lista que contiene un par de valores enteros\n",
        "\n",
        "x=list([1,2,3])\n",
        "print(x, type(x), len(x))"
      ]
    },
    {
      "cell_type": "code",
      "execution_count": null,
      "metadata": {
        "id": "h8EuDlYU1d5O"
      },
      "outputs": [],
      "source": [
        "# Crear una lista que mezcla enteros, punto flotante y string\n",
        "\n",
        "x=list([1,2.,'3',4.])\n",
        "print(x, type(x), len(x))"
      ]
    },
    {
      "cell_type": "code",
      "execution_count": null,
      "metadata": {
        "id": "mAwMZ67C1d5O"
      },
      "outputs": [],
      "source": [
        "type(x[2])"
      ]
    },
    {
      "cell_type": "code",
      "execution_count": null,
      "metadata": {
        "id": "FwdVXAQq1d5O"
      },
      "outputs": [],
      "source": [
        "type(x[1])"
      ]
    },
    {
      "cell_type": "code",
      "execution_count": null,
      "metadata": {
        "id": "aWrNaYgW1d5O"
      },
      "outputs": [],
      "source": [
        "# Crear una lista usando los símbolos []\n",
        "\n",
        "x=[1,2.,'3',4.]\n",
        "print(x, type(x), len(x))"
      ]
    },
    {
      "cell_type": "markdown",
      "metadata": {
        "id": "IxMimWPN1d5P"
      },
      "source": [
        "### Acceder a un elemento y cambiar su valor"
      ]
    },
    {
      "cell_type": "code",
      "execution_count": null,
      "metadata": {
        "id": "9R1uQPEF1d5P"
      },
      "outputs": [],
      "source": [
        "# Acceder al primer elemento de la lista\n",
        "\n",
        "x[0]"
      ]
    },
    {
      "cell_type": "code",
      "execution_count": null,
      "metadata": {
        "id": "cBUGany71d5P"
      },
      "outputs": [],
      "source": [
        "# Cambiar el valor del elemento 0\n",
        "\n",
        "x[0]='Machine Learning con Python'\n",
        "x"
      ]
    },
    {
      "cell_type": "code",
      "execution_count": null,
      "metadata": {
        "id": "cCwJXQBU1d5P"
      },
      "outputs": [],
      "source": [
        "x[3]"
      ]
    },
    {
      "cell_type": "code",
      "execution_count": null,
      "metadata": {
        "id": "3sQMd8441d5P"
      },
      "outputs": [],
      "source": [
        "# Acceder al último elemento de la lista\n",
        "\n",
        "x[-1]"
      ]
    },
    {
      "cell_type": "markdown",
      "metadata": {
        "id": "H9dyvbtb1d5P"
      },
      "source": [
        "### Acceder a un slice de la lista"
      ]
    },
    {
      "cell_type": "code",
      "execution_count": null,
      "metadata": {
        "id": "ouJaLeBm1d5Q"
      },
      "outputs": [],
      "source": [
        "# Acceder a un slice desde el primer elemento hasta el segundo elemento. Usamos los indices 0 y 2\n",
        "\n",
        "print(x)\n",
        "x[2:4]"
      ]
    },
    {
      "cell_type": "code",
      "execution_count": null,
      "metadata": {
        "id": "S7yhBKe71d5Q"
      },
      "outputs": [],
      "source": [
        "x[:2]"
      ]
    },
    {
      "cell_type": "code",
      "execution_count": null,
      "metadata": {
        "id": "CnVCFdQM1d5Q"
      },
      "outputs": [],
      "source": [
        "# Acceder a un slice desde el tercer elemento hasta el último elemento. Usamos los índices 2 y el último lo dejamos en blanco\n",
        "\n",
        "x[2:]"
      ]
    },
    {
      "cell_type": "code",
      "execution_count": null,
      "metadata": {
        "id": "3PanqPWu1d5Q"
      },
      "outputs": [],
      "source": [
        "# Acceder a los últimos dos elementos de la lista. Usamos los índices -2 y dejamos en blanco el último\n",
        "\n",
        "x[-3:]"
      ]
    },
    {
      "cell_type": "code",
      "execution_count": null,
      "metadata": {
        "id": "mGVaN-6-1d5Q"
      },
      "outputs": [],
      "source": [
        "x"
      ]
    },
    {
      "cell_type": "markdown",
      "metadata": {
        "id": "syQZm5h-1d5R"
      },
      "source": [
        "### Agregar elementos a la lista"
      ]
    },
    {
      "cell_type": "code",
      "execution_count": null,
      "metadata": {
        "id": "1BXvzlxH1d5R"
      },
      "outputs": [],
      "source": [
        "x"
      ]
    },
    {
      "cell_type": "code",
      "execution_count": null,
      "metadata": {
        "id": "cMqK0khw1d5R"
      },
      "outputs": [],
      "source": [
        "# Usar el operador suma\n",
        "\n",
        "x=x+[5,'6']\n",
        "x"
      ]
    },
    {
      "cell_type": "code",
      "execution_count": null,
      "metadata": {
        "id": "D_HCalXX1d5R"
      },
      "outputs": [],
      "source": [
        "x+[5,'6']"
      ]
    },
    {
      "cell_type": "code",
      "execution_count": null,
      "metadata": {
        "id": "izufjhvL1d5R"
      },
      "outputs": [],
      "source": [
        "x"
      ]
    },
    {
      "cell_type": "code",
      "execution_count": null,
      "metadata": {
        "id": "qp39mhN61d5R"
      },
      "outputs": [],
      "source": [
        "# Usar el método append. El nuevo elemento se agrega al final de la lista.\n",
        "# En caso que el elemento sea una lista, esta se agrega tal cual\n",
        "\n",
        "x.append(7.)\n",
        "x"
      ]
    },
    {
      "cell_type": "code",
      "execution_count": null,
      "metadata": {
        "id": "LIHEkVnr1d5S"
      },
      "outputs": [],
      "source": [
        "x.append([8,'9'])\n",
        "x"
      ]
    },
    {
      "cell_type": "code",
      "execution_count": null,
      "metadata": {
        "id": "VuE2j_Fb1d5S"
      },
      "outputs": [],
      "source": [
        "# Usar el método extend. El nuevo elemento se agrega al final de la lista.\n",
        "# En caso de ser una lista, cada elemento se agrega por separado\n",
        "\n",
        "x.extend([10,'11','6'])\n",
        "x"
      ]
    },
    {
      "cell_type": "code",
      "execution_count": null,
      "metadata": {
        "id": "GDMOBfPt1d5S"
      },
      "outputs": [],
      "source": [
        "x.extend([10,'11',['6', 7, 8.0]])\n",
        "x"
      ]
    },
    {
      "cell_type": "code",
      "execution_count": null,
      "metadata": {
        "id": "Ltbm2k6G1d5S"
      },
      "outputs": [],
      "source": [
        "x"
      ]
    },
    {
      "cell_type": "markdown",
      "metadata": {
        "id": "EqNfgIyp1d5T"
      },
      "source": [
        "### Buscar elementos en una lista"
      ]
    },
    {
      "cell_type": "code",
      "execution_count": null,
      "metadata": {
        "id": "Ps81kZBU1d5T"
      },
      "outputs": [],
      "source": [
        "# Usar el método count() para contar ocurrencias de algún elemento\n",
        "\n",
        "x.count('8')"
      ]
    },
    {
      "cell_type": "code",
      "execution_count": null,
      "metadata": {
        "id": "sJKqPwfg1d5T"
      },
      "outputs": [],
      "source": [
        "# Usar la función in para determinar si elemento existe en la lista\n",
        "\n",
        "'6' in x"
      ]
    },
    {
      "cell_type": "code",
      "execution_count": null,
      "metadata": {
        "id": "xxRZG3SA1d5U"
      },
      "outputs": [],
      "source": [
        "# Determinar el índice en el cual se encuentra el elemento\n",
        "\n",
        "print(x.index('6'))\n",
        "#help(x.index)"
      ]
    },
    {
      "cell_type": "code",
      "execution_count": null,
      "metadata": {
        "id": "oNC9O3Qq1d5V"
      },
      "outputs": [],
      "source": [
        "x.index(0)"
      ]
    },
    {
      "cell_type": "code",
      "execution_count": null,
      "metadata": {
        "id": "ERVp6q6a1d5X"
      },
      "outputs": [],
      "source": [
        "# ¿Que suecede si buscamos un valor que no se encuentra en la lista?\n",
        "\n",
        "if 894556456465456 in x:\n",
        "    x.index(894556456465456)\n",
        "else:\n",
        "    print('no se encontro')"
      ]
    },
    {
      "cell_type": "code",
      "execution_count": null,
      "metadata": {
        "id": "r97w2ByF1d5X"
      },
      "outputs": [],
      "source": [
        "if 894556456465456 not in x:\n",
        "    x.append(894556456465456)"
      ]
    },
    {
      "cell_type": "markdown",
      "metadata": {
        "id": "HwmM8Bi71d5Y"
      },
      "source": [
        "### Eliminar elementos de una lista"
      ]
    },
    {
      "cell_type": "code",
      "execution_count": null,
      "metadata": {
        "id": "v3dAD8501d5Y"
      },
      "outputs": [],
      "source": [
        "x"
      ]
    },
    {
      "cell_type": "code",
      "execution_count": null,
      "metadata": {
        "id": "gciBjMw11d5Y"
      },
      "outputs": [],
      "source": [
        "# Eliminar elementos usando el indice\n",
        "\n",
        "del x[0]\n",
        "x"
      ]
    },
    {
      "cell_type": "code",
      "execution_count": null,
      "metadata": {
        "id": "mbfa7i-C1d5Y"
      },
      "outputs": [],
      "source": [
        "# Eliminar elementos usando el método remove(). Elimina la primera ocurrencia del elemento\n",
        "\n",
        "x.remove('6')\n",
        "x"
      ]
    },
    {
      "cell_type": "code",
      "execution_count": null,
      "metadata": {
        "id": "VHiAcryI1d5Y"
      },
      "outputs": [],
      "source": [
        "# ¿Que suecede si borramos un elemento que no existe en la lista?\n",
        "\n",
        "x.remove([20])\n",
        "x"
      ]
    },
    {
      "cell_type": "code",
      "execution_count": null,
      "metadata": {
        "id": "-JdMLBVR1d5Y"
      },
      "outputs": [],
      "source": [
        "del x[0]\n",
        "print(x)"
      ]
    },
    {
      "cell_type": "code",
      "execution_count": null,
      "metadata": {
        "id": "qtSabpEg1d5Z"
      },
      "outputs": [],
      "source": [
        "x"
      ]
    },
    {
      "cell_type": "code",
      "execution_count": null,
      "metadata": {
        "id": "ISJGhNGi1d5Z"
      },
      "outputs": [],
      "source": [
        "# Eliminar elementos usando el método pop().\n",
        "# Este método extrae una copia del último elemento de la lista y lo remueve\n",
        "\n",
        "y=x.pop()\n",
        "print(y)\n",
        "print(x)"
      ]
    },
    {
      "cell_type": "code",
      "execution_count": null,
      "metadata": {
        "id": "_0Q3l1Ei1d5Z"
      },
      "outputs": [],
      "source": [
        "y=x.pop(0)\n",
        "print(y)\n",
        "print(x)"
      ]
    },
    {
      "cell_type": "code",
      "execution_count": null,
      "metadata": {
        "id": "HK8ir27P1d5Z"
      },
      "outputs": [],
      "source": [
        "help(x)"
      ]
    },
    {
      "cell_type": "markdown",
      "metadata": {
        "id": "0RLfMg8m1d5Z"
      },
      "source": [
        "### List Comprehensions\n",
        "Las comprensiones son constructos que permiten que las secuencias se construyan a partir de otras secuencias.\n",
        "\n",
        "\n",
        "<img src=\"images/listComprehensions.gif\" width=\"700\">"
      ]
    },
    {
      "cell_type": "code",
      "execution_count": null,
      "metadata": {
        "id": "1ZnOvIWW1d5Z"
      },
      "outputs": [],
      "source": [
        "# Definimos una lista\n",
        "\n",
        "x = [1, 2, 3, 4]\n",
        "x"
      ]
    },
    {
      "cell_type": "code",
      "execution_count": null,
      "metadata": {
        "id": "KD3-W2Oo1d5Z"
      },
      "outputs": [],
      "source": [
        "cuadrado = []\n",
        "for elemento in x:\n",
        "    cuadrado.append(elemento**2)\n",
        "\n",
        "print(cuadrado)"
      ]
    },
    {
      "cell_type": "code",
      "execution_count": null,
      "metadata": {
        "id": "a4QE_xFL1d5a"
      },
      "outputs": [],
      "source": [
        "cuadrado = []\n",
        "for elemento in x:\n",
        "    if elemento < 3:\n",
        "        cuadrado.append(elemento**2)"
      ]
    },
    {
      "cell_type": "code",
      "execution_count": null,
      "metadata": {
        "id": "W3GJ7pPr1d5a"
      },
      "outputs": [],
      "source": [
        "cuadrado"
      ]
    },
    {
      "cell_type": "code",
      "execution_count": null,
      "metadata": {
        "id": "bXf77csi1d5a"
      },
      "outputs": [],
      "source": [
        "# ¿Qué hacemos si queremos elevar al cuadrado a todos los elementos de la lista definida?\n",
        "\n",
        "x2 = [e ** 2 for e in x]\n",
        "print(x2)"
      ]
    },
    {
      "cell_type": "code",
      "execution_count": null,
      "metadata": {
        "id": "nNVbXzip1d5a"
      },
      "outputs": [],
      "source": [
        "x2 = [e ** 2 for e in x if e < 3]\n",
        "print(x2)"
      ]
    },
    {
      "cell_type": "code",
      "execution_count": null,
      "metadata": {
        "id": "RCf0v-9e1d5a"
      },
      "outputs": [],
      "source": [
        "# Agregemos un elemento más a la lista\n",
        "\n",
        "x.append(\"Machine Learning con Python\")\n",
        "x"
      ]
    },
    {
      "cell_type": "code",
      "execution_count": null,
      "metadata": {
        "id": "clj5v0aL1d5b"
      },
      "outputs": [],
      "source": [
        "#  Ahora ... ¿Qué hacemos si queremos elevar al cuadrado a todos los elementos enteros de la lista definida?\n",
        "\n",
        "x2 = [e ** 2 for e in x]\n",
        "print(x2)"
      ]
    },
    {
      "cell_type": "code",
      "execution_count": null,
      "metadata": {
        "id": "0WkIOXhm1d5b"
      },
      "outputs": [],
      "source": [
        "# Agreguemos una condición de que el tipo de valor sea entero\n",
        "\n",
        "x2 = [e ** 2 for e in x if type(e) == int]\n",
        "print(x2)"
      ]
    },
    {
      "cell_type": "code",
      "execution_count": null,
      "metadata": {
        "id": "G4VyBArD1d5b"
      },
      "outputs": [],
      "source": [
        "x"
      ]
    },
    {
      "cell_type": "markdown",
      "metadata": {
        "id": "p2hMqjIN1d5b"
      },
      "source": [
        "## 6. Tuplas\n",
        "\n",
        "Una tupla es una lista inmutable. Una tupla no puede ser alterada de ninguna manera una vez definida.\n",
        "\n",
        "Se pueden crear usando la función tuple() o los símbolos ( ).\n",
        "\n",
        "Las tuplas no tienen los métodos append(), extend(), insert(), remove() y pop()"
      ]
    },
    {
      "cell_type": "markdown",
      "metadata": {
        "id": "lwDS-dxH1d5b"
      },
      "source": [
        "### Definir un objeto tipo tupla"
      ]
    },
    {
      "cell_type": "code",
      "execution_count": null,
      "metadata": {
        "id": "MMxFHcHr1d5b"
      },
      "outputs": [],
      "source": [
        "# Crear una tupla vacía\n",
        "\n",
        "x=tuple()\n",
        "print(x, type(x), len(x))"
      ]
    },
    {
      "cell_type": "code",
      "execution_count": null,
      "metadata": {
        "id": "Lu-qVV7X1d5b"
      },
      "outputs": [],
      "source": [
        "# Crear una tupla usando la función tuple()\n",
        "\n",
        "x=tuple([1,2.,'3',4.])\n",
        "print(x, type(x), len(x))"
      ]
    },
    {
      "cell_type": "code",
      "execution_count": null,
      "metadata": {
        "id": "FH7RoK_O1d5c"
      },
      "outputs": [],
      "source": [
        "# Crear una tupla usando los símbolos ()\n",
        "\n",
        "x=(1,2.,'3',4.)\n",
        "print(x, type(x), len(x))"
      ]
    },
    {
      "cell_type": "markdown",
      "metadata": {
        "id": "TH0yss-a1d5c"
      },
      "source": [
        "### Acceder a un elemento"
      ]
    },
    {
      "cell_type": "code",
      "execution_count": null,
      "metadata": {
        "id": "N_AX3Wzi1d5c"
      },
      "outputs": [],
      "source": [
        "# Acceder al elemento 0 de la lista\n",
        "\n",
        "x[0]"
      ]
    },
    {
      "cell_type": "code",
      "execution_count": null,
      "metadata": {
        "id": "-3r5WJgY1d5c"
      },
      "outputs": [],
      "source": [
        "# ¿Que sucede si tratamos de cambiar el valor del elemento 0?\n",
        "\n",
        "x[0]='Hola mundo'\n",
        "x"
      ]
    },
    {
      "cell_type": "markdown",
      "metadata": {
        "id": "J3hST48U1d5c"
      },
      "source": [
        "### Acceder a un slice de la tupla"
      ]
    },
    {
      "cell_type": "code",
      "execution_count": null,
      "metadata": {
        "id": "2PSMYAyC1d5e"
      },
      "outputs": [],
      "source": [
        "# Acceder a un slice desde el primer elemento hasta el segundo elemento. Usamos los indices 0 y 2\n",
        "\n",
        "x[0:2]"
      ]
    },
    {
      "cell_type": "code",
      "execution_count": null,
      "metadata": {
        "id": "wToQZb251d5e"
      },
      "outputs": [],
      "source": [
        "# Acceder a un slice desde el tercer elemento hasta el último elemento. Usamos los índices 2 y el último lo dejamos en blanco\n",
        "\n",
        "x[2:]"
      ]
    },
    {
      "cell_type": "code",
      "execution_count": null,
      "metadata": {
        "id": "p2W4E7Yz1d5e"
      },
      "outputs": [],
      "source": [
        "# Acceder a los últimos dos elementos de la tupla. Usamos los índices -2 y dejamos en blanco el último\n",
        "\n",
        "x[-2:]"
      ]
    },
    {
      "cell_type": "code",
      "execution_count": null,
      "metadata": {
        "id": "0wCcJF9j1d5f"
      },
      "outputs": [],
      "source": [
        "datos = [\"Matem\", \"Física\", \"Química\", \"Hist\", \"Lengua\"]\n",
        "print(datos)"
      ]
    },
    {
      "cell_type": "code",
      "execution_count": null,
      "metadata": {
        "id": "-LGoAqyM1d5f"
      },
      "outputs": [],
      "source": [
        "lista = [1,2,3,4,5,6,7,8,9,10]\n",
        "lista.sort(reverse = True)\n",
        "print(lista)"
      ]
    },
    {
      "cell_type": "markdown",
      "metadata": {
        "id": "333My1fG1d5f"
      },
      "source": [
        "## 7. Rangos\n",
        "\n",
        "Un rango corresponde a una secuencia inmutable de números y es comúnmente usada en ciclos for para repetir un número finito de veces alguna expresión.\n",
        "\n",
        "Los rangos se pueden crear usando la función range(). Puede ser llamada usando un sólo parámetro **range(stop)**, dos parámetros **range(start,stop)** y hasta tres parámetros **range(start, stop, step)**\n",
        "\n",
        "En Python 2 range() era una función que creaba una lista de largo finitio, y también existía una función llamada xrange() que creaba un tipo de dato xrange(). En Python 3 la función original range() fue descontinuada y ahora range es un tipo de dato."
      ]
    },
    {
      "cell_type": "code",
      "execution_count": null,
      "metadata": {
        "scrolled": false,
        "id": "uNKLstmo1d5f"
      },
      "outputs": [],
      "source": [
        "x=range(1,9,2)\n",
        "print(x, type(x))"
      ]
    },
    {
      "cell_type": "code",
      "execution_count": null,
      "metadata": {
        "id": "Q5fXS4yw1d5f"
      },
      "outputs": [],
      "source": [
        "list(x)"
      ]
    },
    {
      "cell_type": "code",
      "execution_count": null,
      "metadata": {
        "id": "3H0MuD9G1d5g"
      },
      "outputs": [],
      "source": [
        "print(list(x))"
      ]
    },
    {
      "cell_type": "code",
      "execution_count": null,
      "metadata": {
        "id": "0QaRV8ZC1d5g"
      },
      "outputs": [],
      "source": [
        "for i in x:\n",
        "    print(i)"
      ]
    },
    {
      "cell_type": "code",
      "execution_count": null,
      "metadata": {
        "id": "JEy_megL1d5h"
      },
      "outputs": [],
      "source": [
        "x=range(1,10,2)\n",
        "x"
      ]
    },
    {
      "cell_type": "code",
      "execution_count": null,
      "metadata": {
        "id": "JU920hDx1d5h"
      },
      "outputs": [],
      "source": [
        "for i in x:\n",
        "    print(i)"
      ]
    },
    {
      "cell_type": "code",
      "execution_count": null,
      "metadata": {
        "id": "4A4PLE8w1d5h"
      },
      "outputs": [],
      "source": [
        "# ¿Qué sucede si tratamos de crear un rango usando un paso no entero\n",
        "x=range(1,10,0.1)"
      ]
    },
    {
      "cell_type": "markdown",
      "metadata": {
        "id": "3onDeloX1d5h"
      },
      "source": [
        "## 8. Conjuntos\n",
        "\n",
        "Un conjunto es una colección no ordenada y sin elementos repetidos. Los usos básicos de éstos incluyen verificación de pertenencia y eliminación de entradas duplicadas. Los conjuntos también soportan operaciones matemáticas como la unión, intersección, diferencia, y diferencia simétrica.\n",
        "\n",
        "Los conjuntos se pueden crear usando la función set() o los símbolos {}."
      ]
    },
    {
      "cell_type": "markdown",
      "metadata": {
        "id": "PPPAQmxe1d5i"
      },
      "source": [
        "### Definir un objeto tipo conjunto"
      ]
    },
    {
      "cell_type": "code",
      "execution_count": null,
      "metadata": {
        "id": "mwP64Gj21d5i"
      },
      "outputs": [],
      "source": [
        "x = set(['machine', 'learning'])\n",
        "print(x, type(x), len(x))"
      ]
    },
    {
      "cell_type": "code",
      "execution_count": null,
      "metadata": {
        "id": "TS5UoypT1d5i"
      },
      "outputs": [],
      "source": [
        "x={'machine', 'learning'}\n",
        "print(x, type(x), len(x))"
      ]
    },
    {
      "cell_type": "code",
      "execution_count": null,
      "metadata": {
        "id": "b1zm-dYL1d5i"
      },
      "outputs": [],
      "source": [
        "# Crear un conjunto con múltiples elementos\n",
        "\n",
        "element_set = {'machine', 'learning', 'python', 'sklearn',\n",
        "               'tpot', 'xgboost'}\n",
        "print(element_set)"
      ]
    },
    {
      "cell_type": "code",
      "execution_count": null,
      "metadata": {
        "id": "IVjWFJrD1d5i"
      },
      "outputs": [],
      "source": [
        "# Determinar si elemento existe en set\n",
        "\n",
        "'python' in element_set"
      ]
    },
    {
      "cell_type": "code",
      "execution_count": null,
      "metadata": {
        "id": "au5n1uE91d5i"
      },
      "outputs": [],
      "source": [
        "python = \"python\"\n",
        "python in element_set"
      ]
    },
    {
      "cell_type": "code",
      "execution_count": null,
      "metadata": {
        "id": "g98luNGB1d5i"
      },
      "outputs": [],
      "source": [
        "# Determinar si elemento existe en set\n",
        "\n",
        "'deep learning' in element_set"
      ]
    },
    {
      "cell_type": "code",
      "execution_count": null,
      "metadata": {
        "id": "bHhJj9d71d5j"
      },
      "outputs": [],
      "source": [
        "conjunto = {1,1,2,2,3,4,5}\n",
        "conjunto"
      ]
    },
    {
      "cell_type": "code",
      "execution_count": null,
      "metadata": {
        "id": "kwyjtAQE1d5j"
      },
      "outputs": [],
      "source": [
        "l1 = ['d1', 'd2', 'd2', 'd3']\n",
        "c1 = set(l1)\n",
        "c1"
      ]
    },
    {
      "cell_type": "markdown",
      "metadata": {
        "id": "Zbc-dK6W1d5j"
      },
      "source": [
        "### Definir un conjunto usando letras únicas de palabras"
      ]
    },
    {
      "cell_type": "code",
      "execution_count": null,
      "metadata": {
        "id": "2lboOFdG1d5j"
      },
      "outputs": [],
      "source": [
        "x=set('machine')\n",
        "y=set('python')\n",
        "\n",
        "print(\"Letras únicas en x: \", x)\n",
        "print(\"Letras únicas en y: \", y)"
      ]
    },
    {
      "cell_type": "code",
      "execution_count": null,
      "metadata": {
        "id": "b1K3bjkY1d5j"
      },
      "outputs": [],
      "source": [
        "# letras en x pero no en y\n",
        "\n",
        "x-y"
      ]
    },
    {
      "cell_type": "code",
      "execution_count": null,
      "metadata": {
        "id": "o7M9C7L91d5k"
      },
      "outputs": [],
      "source": [
        "# letras en a o en b o en ambas\n",
        "\n",
        "x | y"
      ]
    },
    {
      "cell_type": "code",
      "execution_count": null,
      "metadata": {
        "id": "0v4AfTwC1d5k"
      },
      "outputs": [],
      "source": [
        "# letras en a y en b\n",
        "\n",
        "x & y"
      ]
    },
    {
      "cell_type": "code",
      "execution_count": null,
      "metadata": {
        "id": "aM_6d-hP1d5k"
      },
      "outputs": [],
      "source": [
        "# letras en x o y pero no en ambos\n",
        "\n",
        "x ^ y"
      ]
    },
    {
      "cell_type": "markdown",
      "metadata": {
        "id": "winMS4-71d5k"
      },
      "source": [
        "## 9. Diccionarios\n",
        "\n",
        "Otro tipo de dato útil incluído en Python es el diccionario. Los diccionarios se encuentran a veces en otros lenguajes como \"memorias asociativas\" o \"arreglos asociativos\". A diferencia de las secuencias, que se indexan mediante un rango numérico, los diccionarios se indexan con claves, que pueden ser cualquier tipo inmutable; las cadenas y números siempre pueden ser claves.\n",
        "\n",
        "Las tuplas pueden usarse como claves si solamente contienen cadenas, números o tuplas; si una tupla contiene cualquier objeto mutable directa o indirectamente, no puede usarse como clave. No se pueden usar listas como claves, ya que las listas pueden modificarse.\n",
        "\n",
        "Lo mejor es pensar en un diccionario como un conjunto no ordenado de pares clave: valor, con el requisito de que las claves sean únicas (dentro de un diccionario en particular).\n",
        "\n",
        "Los diccionarios se pueden crear usando la función dict() o los símbolos {}."
      ]
    },
    {
      "cell_type": "markdown",
      "metadata": {
        "id": "s7c00GIx1d5k"
      },
      "source": [
        "### Definir un objeto tipo diccionario"
      ]
    },
    {
      "cell_type": "code",
      "execution_count": null,
      "metadata": {
        "id": "VV23lht21d5k"
      },
      "outputs": [],
      "source": [
        "x = dict()\n",
        "print(x, type(x), len(x))"
      ]
    },
    {
      "cell_type": "code",
      "execution_count": null,
      "metadata": {
        "id": "5X-UlZ2e1d5l"
      },
      "outputs": [],
      "source": [
        "# Crear un diccionario que contiene la cantidad de goles realizados por los países de Sudamérica en la fase de grupos\n",
        "# del Mundial de Rusia 2018\n",
        "\n",
        "goles={'Perú': 2, 'Brasil': 5, 'Colombia': 5, 'Argentina': 3, 'Uruguay': 5, 'Chile': 0}\n",
        "\n",
        "print(goles, type(goles))"
      ]
    },
    {
      "cell_type": "code",
      "execution_count": null,
      "metadata": {
        "id": "P9vNFrXa1d5m"
      },
      "outputs": [],
      "source": [
        "# Recuperar las claves de la variable goles\n",
        "\n",
        "paises = list(goles.keys())\n",
        "paises"
      ]
    },
    {
      "cell_type": "code",
      "execution_count": null,
      "metadata": {
        "id": "0Gp_SIMz1d5n"
      },
      "outputs": [],
      "source": [
        "goles.keys()"
      ]
    },
    {
      "cell_type": "code",
      "execution_count": null,
      "metadata": {
        "id": "BRLZJ5iw1d5n"
      },
      "outputs": [],
      "source": [
        "paises[0]"
      ]
    },
    {
      "cell_type": "code",
      "execution_count": null,
      "metadata": {
        "id": "QflVzo7t1d5n"
      },
      "outputs": [],
      "source": [
        "# Recuperar los valores de la variable goles\n",
        "\n",
        "list(goles.values())"
      ]
    },
    {
      "cell_type": "code",
      "execution_count": null,
      "metadata": {
        "id": "sTCMZNbr1d5n"
      },
      "outputs": [],
      "source": [
        "goles"
      ]
    },
    {
      "cell_type": "code",
      "execution_count": null,
      "metadata": {
        "id": "BQNBN8Ts1d5n"
      },
      "outputs": [],
      "source": [
        "# Recuperar la cantidad de goles de un país usando la clave\n",
        "\n",
        "goles['Perú']"
      ]
    },
    {
      "cell_type": "code",
      "execution_count": null,
      "metadata": {
        "id": "h5P65stq1d5n"
      },
      "outputs": [],
      "source": [
        "# Agregar un nuevo elemento al diccionario\n",
        "\n",
        "goles['México']=3\n",
        "print(goles)"
      ]
    },
    {
      "cell_type": "code",
      "execution_count": null,
      "metadata": {
        "id": "SZTGhWrW1d5o"
      },
      "outputs": [],
      "source": [
        "goles['prueba'] = [3, 4, 5]"
      ]
    },
    {
      "cell_type": "code",
      "execution_count": null,
      "metadata": {
        "id": "2mCyZsBz1d5o"
      },
      "outputs": [],
      "source": [
        "goles"
      ]
    },
    {
      "cell_type": "code",
      "execution_count": null,
      "metadata": {
        "id": "MpZyIDNl1d5o"
      },
      "outputs": [],
      "source": [
        "goles['prueba']"
      ]
    },
    {
      "cell_type": "code",
      "execution_count": null,
      "metadata": {
        "id": "jQcUseXj1d5o"
      },
      "outputs": [],
      "source": [
        "for clave in list(goles.keys()):\n",
        "    print (clave)"
      ]
    },
    {
      "cell_type": "code",
      "execution_count": null,
      "metadata": {
        "id": "z9muU9Lq1d5o"
      },
      "outputs": [],
      "source": [
        "# Imprimir cada una de las claves del diccionario\n",
        "\n",
        "for i in goles:\n",
        "    print(i)"
      ]
    },
    {
      "cell_type": "code",
      "execution_count": null,
      "metadata": {
        "id": "GAgBQWxq1d5o"
      },
      "outputs": [],
      "source": [
        "list(goles.items())"
      ]
    },
    {
      "cell_type": "code",
      "execution_count": null,
      "metadata": {
        "id": "16_qVC4o1d5o"
      },
      "outputs": [],
      "source": [
        "# Imprimir cada par de clave y valor\n",
        "\n",
        "for key, value in goles.items():\n",
        "    print(key, \": \", value)"
      ]
    },
    {
      "cell_type": "code",
      "execution_count": null,
      "metadata": {
        "id": "L2_XFNag1d5p"
      },
      "outputs": [],
      "source": [
        "for key, value in goles.items():\n",
        "    print(key, \": \", value)"
      ]
    },
    {
      "cell_type": "markdown",
      "metadata": {
        "id": "Op7OuPBH1d5p"
      },
      "source": [
        "# II. Operaciones y funciones nativas\n",
        "Sobre todos los tipos de objetos de Python se pueden aplicar operaciones. El tipo de operaciones varia dependiendo de cada tipo."
      ]
    },
    {
      "cell_type": "markdown",
      "metadata": {
        "id": "rmeeZysa1d5p"
      },
      "source": [
        "## Operadores booleanos\n",
        "\n",
        "- x **or** y: Si x es falso, entonces devuelve y. Sino, devuelve x \\\\\n",
        "- x **and** y: Si x es falso, entonces devuelve x. Sino, devuelve y \\\\\n",
        "- **not** x: Si x es falso, entonces devuelve True. Sino, devuelve False"
      ]
    },
    {
      "cell_type": "code",
      "execution_count": null,
      "metadata": {
        "id": "lmqq05Wk1d5p"
      },
      "outputs": [],
      "source": [
        "x=False\n",
        "y=True\n",
        "x or y"
      ]
    },
    {
      "cell_type": "code",
      "execution_count": null,
      "metadata": {
        "id": "zNw7MQiv1d5p"
      },
      "outputs": [],
      "source": [
        "x=False\n",
        "y=True\n",
        "x and y"
      ]
    },
    {
      "cell_type": "code",
      "execution_count": null,
      "metadata": {
        "id": "sgxDES031d5p"
      },
      "outputs": [],
      "source": [
        "x=True\n",
        "y=True\n",
        "x and y"
      ]
    },
    {
      "cell_type": "code",
      "execution_count": null,
      "metadata": {
        "id": "xsD8Ay2t1d5q"
      },
      "outputs": [],
      "source": [
        "x=False\n",
        "not x"
      ]
    },
    {
      "cell_type": "markdown",
      "metadata": {
        "id": "rMLaM7FW1d5q"
      },
      "source": [
        "## Operadores de comparación\n",
        "\n",
        "- < : Estrictamente menor que\n",
        "- <= : Menor o igual que\n",
        "- \\>\t: Estrictamente mayor que\n",
        "- \\>= :\tMayor o igual que\n",
        "- == : Igual\n",
        "- != : No es igual\n",
        "- is : Identidad del objeto\n",
        "- is not : Negación de la identidad del objeto"
      ]
    },
    {
      "cell_type": "code",
      "execution_count": null,
      "metadata": {
        "id": "5QQrUuEM1d5q"
      },
      "outputs": [],
      "source": [
        "x = 4"
      ]
    },
    {
      "cell_type": "code",
      "execution_count": null,
      "metadata": {
        "id": "5wtgK39t1d5q"
      },
      "outputs": [],
      "source": [
        "x < 10"
      ]
    },
    {
      "cell_type": "code",
      "execution_count": null,
      "metadata": {
        "id": "Slrp6xBt1d5q"
      },
      "outputs": [],
      "source": [
        "x == 10"
      ]
    },
    {
      "cell_type": "code",
      "execution_count": null,
      "metadata": {
        "id": "VG2HIkqR1d5q"
      },
      "outputs": [],
      "source": [
        "x != 10"
      ]
    },
    {
      "cell_type": "code",
      "execution_count": null,
      "metadata": {
        "id": "OSqPfE--1d5r"
      },
      "outputs": [],
      "source": [
        "x is 4"
      ]
    },
    {
      "cell_type": "code",
      "execution_count": null,
      "metadata": {
        "id": "7qXvXCNj1d5r"
      },
      "outputs": [],
      "source": [
        "isinstance(x,int)"
      ]
    },
    {
      "cell_type": "code",
      "execution_count": null,
      "metadata": {
        "id": "zwbrObST1d5r"
      },
      "outputs": [],
      "source": [
        "x is not 4"
      ]
    },
    {
      "cell_type": "markdown",
      "metadata": {
        "id": "C05XkC-21d5r"
      },
      "source": [
        "## Operadores para objetos del tipo numéricos\n",
        "\n",
        "- x + y: Suma de x e y\n",
        "- x - y: Diferencia de x e y\n",
        "- x * y: Multipliación de x e y\n",
        "- x / y: División de x e y\n",
        "- x // y: Numero entero inferior más próximo de división entre x e y\n",
        "- x % y: Módulo de x e y\n",
        "- -x: Negación del valor de x\n",
        "- +x: El valor de x no es alterado\n",
        "- x \\*\\* y: El valor de x a la potencia de y"
      ]
    },
    {
      "cell_type": "code",
      "execution_count": null,
      "metadata": {
        "id": "73J461fe1d5r"
      },
      "outputs": [],
      "source": [
        "s=[1,2,3,4] ; t=[5,6,7,8]"
      ]
    },
    {
      "cell_type": "code",
      "execution_count": null,
      "metadata": {
        "id": "3adhxX_Y1d5r"
      },
      "outputs": [],
      "source": [
        "1 in s"
      ]
    },
    {
      "cell_type": "code",
      "execution_count": null,
      "metadata": {
        "id": "yyplPGt_1d5r"
      },
      "outputs": [],
      "source": [
        "5 in s"
      ]
    },
    {
      "cell_type": "code",
      "execution_count": null,
      "metadata": {
        "id": "2UWTc8hR1d5t"
      },
      "outputs": [],
      "source": [
        "s+t"
      ]
    },
    {
      "cell_type": "code",
      "execution_count": null,
      "metadata": {
        "id": "pBrp7mff1d5u"
      },
      "outputs": [],
      "source": [
        "s*3"
      ]
    },
    {
      "cell_type": "code",
      "execution_count": null,
      "metadata": {
        "id": "EfoUIYR81d5u"
      },
      "outputs": [],
      "source": [
        "[e*3 if e < 3 else e*2 for e in s]"
      ]
    },
    {
      "cell_type": "code",
      "execution_count": null,
      "metadata": {
        "id": "gStYk1BB1d5u"
      },
      "outputs": [],
      "source": [
        "len(s)"
      ]
    },
    {
      "cell_type": "code",
      "execution_count": null,
      "metadata": {
        "id": "VHnuuLtO1d5u"
      },
      "outputs": [],
      "source": [
        "min(s)"
      ]
    },
    {
      "cell_type": "code",
      "execution_count": null,
      "metadata": {
        "id": "Ta9LWttC1d5v"
      },
      "outputs": [],
      "source": [
        "max(s)"
      ]
    },
    {
      "cell_type": "markdown",
      "metadata": {
        "id": "peAN8lxg1d5v"
      },
      "source": [
        "## Funciones nativas de Python\n",
        "\n",
        "Python 3.6 cuenta con 68 funciones incluidas por defecto. Estas funciones son muy variadas y facilitan el análisis numérico y la evaluación de expresiones. A continuación se listan alfabéticamente.\n",
        "\n",
        "<img src=\"images/python_builtin_functions.png\" width=800>"
      ]
    },
    {
      "cell_type": "code",
      "execution_count": null,
      "metadata": {
        "id": "gA4SU1M81d5v"
      },
      "outputs": [],
      "source": [
        "x=-4\n",
        "print(x)"
      ]
    },
    {
      "cell_type": "code",
      "execution_count": null,
      "metadata": {
        "id": "CR7xQ9uf1d5v"
      },
      "outputs": [],
      "source": [
        "y=abs(x)\n",
        "print(y)"
      ]
    },
    {
      "cell_type": "code",
      "execution_count": null,
      "metadata": {
        "id": "WO9B-rsJ1d5v"
      },
      "outputs": [],
      "source": [
        "isinstance(x,int)"
      ]
    },
    {
      "cell_type": "code",
      "execution_count": null,
      "metadata": {
        "id": "SPszpNBQ1d5w"
      },
      "outputs": [],
      "source": [
        "isinstance(x,float)"
      ]
    },
    {
      "cell_type": "code",
      "execution_count": null,
      "metadata": {
        "id": "VWKDvWLC1d5w"
      },
      "outputs": [],
      "source": [
        "x=4.654321\n",
        "print(x)"
      ]
    },
    {
      "cell_type": "code",
      "execution_count": null,
      "metadata": {
        "id": "KT4JWfd11d5w"
      },
      "outputs": [],
      "source": [
        "round(x)"
      ]
    },
    {
      "cell_type": "code",
      "execution_count": null,
      "metadata": {
        "id": "Yb6W-9Iw1d5w"
      },
      "outputs": [],
      "source": [
        "round(x,2)"
      ]
    },
    {
      "cell_type": "markdown",
      "metadata": {
        "id": "o6Dy84Ze1d5w"
      },
      "source": [
        "# III. Uso de sentencias de control de flujo"
      ]
    },
    {
      "cell_type": "markdown",
      "metadata": {
        "id": "ijtCUXJi1d5w"
      },
      "source": [
        "Python soporta las sentencias de control de flujo que podemos encontrar en otros lenguajes de programación tales como C, R y Java.\n",
        "\n",
        "Las sentencias presentes en Python 3.6 son\n",
        "\n",
        "- If\n",
        "- Else\n",
        "\n",
        "- While\n",
        "- For\n",
        "- Break\n",
        "- Continue\n",
        "- Pass\n",
        "\n",
        "- Try\n",
        "- With\n"
      ]
    },
    {
      "cell_type": "markdown",
      "metadata": {
        "id": "Ak_tHbZw1d5w"
      },
      "source": [
        "## 1. If\n",
        "\n",
        "La sentencia if es quizás la más conocida. Esta sentencua se usa para ejecución condicional de código.\n",
        "\n",
        "Puede haber cero o más bloques elif, y el bloque else es opcional. La palabra reservada ‘elif‘ es una abreviación de ‘else if’, y es útil para evitar un sangrado excesivo.\n",
        "\n",
        "Una secuencia if ... elif ... elif ... sustituye las sentencias switch o case encontradas en otros lenguajes."
      ]
    },
    {
      "cell_type": "code",
      "execution_count": null,
      "metadata": {
        "id": "kLGcdfEO1d5x"
      },
      "outputs": [],
      "source": [
        "x=-30\n",
        "\n",
        "if x < 0:\n",
        "    x = 0\n",
        "    print('Negativo cambiado a cero')\n",
        "if x < 10:\n",
        "    print('menor a 10')\n",
        "elif x < 15:\n",
        "    print('menor a 15')\n",
        "else:\n",
        "    print('Mayor a uno')\n",
        "\n",
        "print(\"Valor: \", x)"
      ]
    },
    {
      "cell_type": "markdown",
      "metadata": {
        "id": "XonMO9_m1d5x"
      },
      "source": [
        "## 2. While\n",
        "\n",
        "La sentencia while es usada para repetir la ejecución de un código mientras la condición sea verdadera.\n",
        "\n",
        "El primer bloque corresponde al código que se ejecuta mientras la condición sea verdadera. Se puede crear un segundo bloque opcional con la sentencia else, la cual permite ejecutar ese bloque antes de terminar la ejecución del bucle while.\n",
        "\n",
        "Se pueden usar las sentencias **break** y **continue** en el primer bloque."
      ]
    },
    {
      "cell_type": "code",
      "execution_count": null,
      "metadata": {
        "id": "AKrEj5r81d5x"
      },
      "outputs": [],
      "source": [
        "a=0;b=1"
      ]
    },
    {
      "cell_type": "code",
      "execution_count": null,
      "metadata": {
        "id": "FODhLXtG1d5x"
      },
      "outputs": [],
      "source": [
        "a, b = 0, 1\n",
        "\n",
        "while b < 1000:\n",
        "    print(b, end=',')\n",
        "    a, b = b, a+b"
      ]
    },
    {
      "cell_type": "markdown",
      "metadata": {
        "id": "R-UCI_Nb1d5y"
      },
      "source": [
        "## 3. For\n",
        "\n",
        "La sentencia for se usa para iterar sobre los elementos que pertenecen a una secuencia del tipo string, tupla, lista o cualquier otro objeto iterable.\n",
        "\n",
        "La sentencia for en Python difiere un poco de lo que uno puede estar acostumbrado en lenguajes como C o Pascal. En lugar de siempre iterar sobre una progresión aritmética de números (como en Pascal) o darle al usuario la posibilidad de definir tanto el paso de la iteración como la condición de fin (como en C), la sentencia for de Python itera sobre los ítems de cualquier secuencia (una lista o una cadena de texto), en el orden que aparecen en la secuencia."
      ]
    },
    {
      "cell_type": "code",
      "execution_count": null,
      "metadata": {
        "id": "GRWdKzFy1d5y"
      },
      "outputs": [],
      "source": [
        "palabras = ['Machine', 'Learning', 'Data Science']\n",
        "for p in palabras:\n",
        "    print(p, len(p))"
      ]
    },
    {
      "cell_type": "code",
      "execution_count": null,
      "metadata": {
        "id": "WeSMyNQK1d5y"
      },
      "outputs": [],
      "source": [
        "list(range(0, len(palabras), 2))"
      ]
    },
    {
      "cell_type": "code",
      "execution_count": null,
      "metadata": {
        "id": "OO9zH7RQ1d5y"
      },
      "outputs": [],
      "source": [
        "for i in range(len(palabras)):\n",
        "    print(i, palabras[i])"
      ]
    },
    {
      "cell_type": "markdown",
      "metadata": {
        "id": "q3SVtuZt1d5y"
      },
      "source": [
        "# IV. Definición de funciones y clases\n"
      ]
    },
    {
      "cell_type": "markdown",
      "metadata": {
        "id": "q2ErQIl61d5y"
      },
      "source": [
        "# 1. Definición de funciones\n",
        "\n",
        "La palabra reservada **def** se usa para definir funciones. Debe seguirle el nombre de la función y la lista de parámetros formales entre paréntesis. Las sentencias que forman el cuerpo de la función empiezan en la línea siguiente, y deben estar con sangría.\n",
        "\n",
        "La primer sentencia del cuerpo de la función puede ser opcionalmente una cadena de texto literal; esta es la cadena de texto de documentación de la función, o docstring. (Podés encontrar más acerca de docstrings en la sección Cadenas de texto de documentación.)"
      ]
    },
    {
      "cell_type": "code",
      "execution_count": null,
      "metadata": {
        "id": "t3LRGAhP1d5y"
      },
      "outputs": [],
      "source": [
        "def suma(x, y=4):\n",
        "    \"\"\"\n",
        "\n",
        "    \"\"\"\n",
        "    return (x, y, x + y)"
      ]
    },
    {
      "cell_type": "code",
      "execution_count": null,
      "metadata": {
        "id": "dWo9us8f1d5y"
      },
      "outputs": [],
      "source": [
        "# Llamamos a la función suma con un solo parámetro\n",
        "\n",
        "x, y, plus =  suma(4)\n",
        "print(x, y, plus)"
      ]
    },
    {
      "cell_type": "code",
      "execution_count": null,
      "metadata": {
        "id": "sXZhoDyW1d5z"
      },
      "outputs": [],
      "source": [
        "# Llamamos a la función suma usando los dos parámetros\n",
        "\n",
        "suma(2,10)"
      ]
    },
    {
      "cell_type": "markdown",
      "metadata": {
        "id": "_7astMu51d5z"
      },
      "source": [
        "Otra forma de escribir funciones, aunque menos utilizada, es con la palabra clave lambda. Las funciones Lambda pueden ser usadas en cualquier lugar donde sea requerido un objeto de tipo función. Están sintácticamente restringidas a una sola expresión."
      ]
    },
    {
      "cell_type": "code",
      "execution_count": null,
      "metadata": {
        "id": "mp5ByZ5H1d5z"
      },
      "outputs": [],
      "source": [
        "suma = lambda x, y = 2: x + y"
      ]
    },
    {
      "cell_type": "code",
      "execution_count": null,
      "metadata": {
        "id": "2yeW9CZy1d5z"
      },
      "outputs": [],
      "source": [
        "suma(4)"
      ]
    },
    {
      "cell_type": "code",
      "execution_count": null,
      "metadata": {
        "id": "BSnfor_j1d50"
      },
      "outputs": [],
      "source": [
        "suma(4,10)"
      ]
    },
    {
      "cell_type": "code",
      "execution_count": null,
      "metadata": {
        "id": "3kXjJXCp1d52"
      },
      "outputs": [],
      "source": [
        "type(suma)"
      ]
    },
    {
      "cell_type": "markdown",
      "metadata": {
        "id": "e2H58DoZ1d52"
      },
      "source": [
        "## 2. Definición de clases\n",
        "\n",
        "En el contexto de la programación orientada a objetos se habla de objetos, clases, métodos y atributos. En una clase un \"método\" equivale a una \"función\", y un \"atributo\" equivale a una \"variable\".\n",
        "\n",
        "Las clases proveen una forma de empaquetar datos y funcionalidad juntos. Al crear una nueva clase, se crea un nuevo tipo de objeto, permitiendo crear nuevas instancias de ese tipo. Cada instancia de clase puede tener atributos adjuntos para mantener su estado. Las instancias de clase también pueden tener métodos (definidos por su clase) para modificar su estado.\n",
        "\n",
        "Las clases de Python proveen todas las características normales de la Programación Orientada a Objetos:\n",
        "\n",
        "- El mecanismo de la herencia de clases permite múltiples clases base\n",
        "- Una clase derivada puede sobre escribir cualquier método de su(s) clase(s) base\n",
        "- Un método puede llamar al método de la clase base con el mismo nombre\n",
        "\n",
        "Los objetos pueden tener una cantidad arbitraria de datos de cualquier tipo. Igual que con los módulos, las clases participan de la naturaleza dinámica de Python: se crean en tiempo de ejecución, y pueden modificarse luego de la creación."
      ]
    },
    {
      "cell_type": "markdown",
      "metadata": {
        "id": "FWI1srWz1d52"
      },
      "source": [
        "### Sintáxis en la definición de clases\n",
        "\n",
        "La forma más sencilla de definición de una clase se ve así\n",
        "\n",
        "```\n",
        "class Clase:\n",
        "    <declaración-1>\n",
        "    .\n",
        "    .\n",
        "    .\n",
        "    <declaración-N>\n",
        "```\n",
        "\n",
        "Las definiciones de clases, al igual que las definiciones de funciones (instrucciones def) deben ejecutarse antes de que tengan efecto alguno. Es concebible poner una definición de clase dentro de una rama de un if, o dentro de una función.\n",
        "\n",
        "Cuando una definición de clase se finaliza normalmente se crea un objeto clase. Básicamente, este objeto envuelve los contenidos del espacio de nombres creado por la definición de la clase"
      ]
    },
    {
      "cell_type": "markdown",
      "metadata": {
        "id": "VensOHjs1d52"
      },
      "source": [
        "### Objeto clase\n",
        "\n",
        "Los objetos clase soportan dos tipos de operaciones: hacer referencia a atributos e instanciación.\n",
        "\n",
        "#### Referencia a atributos\n",
        "\n",
        "Para hacer referencia a atributos se usa la sintaxis estándar de todas las referencias a atributos en Python: objeto.nombre.\n",
        "\n",
        "Los nombres de atributo válidos son todos los nombres que estaban en el espacio de nombres de la clase cuando ésta se creó. Por lo tanto, si la definición de la clase es así"
      ]
    },
    {
      "cell_type": "code",
      "execution_count": null,
      "metadata": {
        "id": "E-Uf98fo1d52"
      },
      "outputs": [],
      "source": [
        "class MiClase:\n",
        "    \"\"\"Simple clase de ejemplo\"\"\"\n",
        "    i = 12345\n",
        "\n",
        "    def f(self):\n",
        "        return 'Hola mundo'"
      ]
    },
    {
      "cell_type": "markdown",
      "metadata": {
        "id": "wADhYlBI1d52"
      },
      "source": [
        "entonces MiClase.i y MiClase.f son referencias de atributos válidas, que devuelven un entero y un objeto función respectivamente.\n",
        "\n",
        "Los atributos de clase también pueden ser asignados, o sea que se pueden cambiar el valor de MiClase.i mediante asignación."
      ]
    },
    {
      "cell_type": "markdown",
      "metadata": {
        "id": "2QooauCO1d53"
      },
      "source": [
        "#### Instantación de clases\n",
        "\n",
        "La instanciación de clases usa la notación de funciones. Suponga que el objeto de clase es una función sin parámetros que devuelve una nueva instancia de la clase. Por ejemplo,"
      ]
    },
    {
      "cell_type": "code",
      "execution_count": null,
      "metadata": {
        "id": "V665grf61d53"
      },
      "outputs": [],
      "source": [
        "x=MiClase()"
      ]
    },
    {
      "cell_type": "code",
      "execution_count": null,
      "metadata": {
        "id": "9YySfnvr1d53"
      },
      "outputs": [],
      "source": [
        "type(x)"
      ]
    },
    {
      "cell_type": "markdown",
      "metadata": {
        "id": "XooO-cgn1d53"
      },
      "source": [
        "crea una nueva instancia de la clase y asigna este objeto a la variable local x.\n",
        "\n",
        "Podemos ejecutar el método f() del objeto x."
      ]
    },
    {
      "cell_type": "code",
      "execution_count": null,
      "metadata": {
        "id": "zoXGxJ821d53"
      },
      "outputs": [],
      "source": [
        "x.f()"
      ]
    },
    {
      "cell_type": "code",
      "execution_count": null,
      "metadata": {
        "id": "zhGRqIip1d53"
      },
      "outputs": [],
      "source": [
        "x.i"
      ]
    },
    {
      "cell_type": "markdown",
      "metadata": {
        "id": "TaTxrx4j1d53"
      },
      "source": [
        "Cuando una clase define un método __init__(), la instanciación de la clase automáticamente invoca a __init__() para la instancia recién creada."
      ]
    },
    {
      "cell_type": "code",
      "execution_count": null,
      "metadata": {
        "id": "9cW-cjsI1d53"
      },
      "outputs": [],
      "source": [
        "class Complejo:\n",
        "    def __init__(self, partereal, parteimaginaria):\n",
        "        self.r = partereal\n",
        "        self.i = parteimaginaria"
      ]
    },
    {
      "cell_type": "code",
      "execution_count": null,
      "metadata": {
        "id": "PZTt9eA-1d54"
      },
      "outputs": [],
      "source": [
        "x = Complejo(3.0, -4.5)"
      ]
    },
    {
      "cell_type": "code",
      "execution_count": null,
      "metadata": {
        "id": "E5uutnFb1d54"
      },
      "outputs": [],
      "source": [
        "x.r"
      ]
    },
    {
      "cell_type": "markdown",
      "metadata": {
        "id": "te-_svpe1d54"
      },
      "source": [
        "### Variables de clase y de instancia\n",
        "\n",
        "En general, las variables de instancia son para datos únicos de cada instancia y las variables de clase son para atributos y métodos compartidos por todas las instancias de la clase:"
      ]
    },
    {
      "cell_type": "code",
      "execution_count": null,
      "metadata": {
        "id": "EGJltmg61d54"
      },
      "outputs": [],
      "source": [
        "class Perro:\n",
        "\n",
        "     def __init__(self, nombre):\n",
        "        self.nombre = nombre\n",
        "        self.tipo = 'canino'# variable de instancia única para la instancia"
      ]
    },
    {
      "cell_type": "code",
      "execution_count": null,
      "metadata": {
        "id": "iFlEo3hr1d54"
      },
      "outputs": [],
      "source": [
        "d = Perro('Fido')\n",
        "e = Perro('Buddy')"
      ]
    },
    {
      "cell_type": "code",
      "execution_count": null,
      "metadata": {
        "id": "zEaoCele1d54"
      },
      "outputs": [],
      "source": [
        "# Variable compartida por todos los perros\n",
        "\n",
        "print(d.tipo)\n",
        "print(e.tipo)"
      ]
    },
    {
      "cell_type": "code",
      "execution_count": null,
      "metadata": {
        "id": "BMPKhnD31d55"
      },
      "outputs": [],
      "source": [
        "# Única para cada objeto\n",
        "\n",
        "print(d.nombre)\n",
        "print(e.nombre)"
      ]
    },
    {
      "cell_type": "code",
      "execution_count": null,
      "metadata": {
        "id": "b_c36RXW1d55"
      },
      "outputs": [],
      "source": []
    }
  ],
  "metadata": {
    "kernelspec": {
      "display_name": "Python 3",
      "language": "python",
      "name": "python3"
    },
    "language_info": {
      "codemirror_mode": {
        "name": "ipython",
        "version": 3
      },
      "file_extension": ".py",
      "mimetype": "text/x-python",
      "name": "python",
      "nbconvert_exporter": "python",
      "pygments_lexer": "ipython3",
      "version": "3.7.6"
    },
    "colab": {
      "provenance": [],
      "include_colab_link": true
    }
  },
  "nbformat": 4,
  "nbformat_minor": 0
}